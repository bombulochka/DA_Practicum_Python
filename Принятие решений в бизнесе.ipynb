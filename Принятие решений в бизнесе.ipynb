{
 "cells": [
  {
   "cell_type": "markdown",
   "metadata": {},
   "source": [
    "<div style=\"background:#e5e5e5; color:#000; padding:10px\">\n",
    "\n",
    "Привет еще раз!\\\n",
    "Все критические замечания устранены, проект принят!\n",
    " \n",
    "Желаю тебе успехов во всех будущих начинаниях! 🙂\n",
    "</div>"
   ]
  },
  {
   "cell_type": "markdown",
   "metadata": {},
   "source": [
    "<div style=\"border:solid black 2px; padding: 20px\">\n",
    "Привет!\n",
    "\n",
    "Меня зовут Сергей, и я буду делать ревью твоего проекта. Давай будем общаться на «ты». Но если тебе комфортнее на «вы», обязательно сообщи мне об этом. Моя основная цель - не указать тебе на совершенные тобой ошибки, а поделиться своим опытом и помочь тебе стать аналитиком данных.\n",
    "    \n",
    "Свои комментарии я буду выделять следующим образом:\n",
    "<div class=\"alert alert-danger\">\n",
    "    \n",
    "  <b>Комментарий ревьюера</b>\n",
    "    \n",
    "  ❌ Так выделено то, что необходимо исправить, прежде чем я смогу принять твой проект.\n",
    "</div>\n",
    "    \n",
    "    \n",
    "<div class=\"alert alert-warning\">\n",
    "    \n",
    "  <b>Комментарий ревьюера</b>\n",
    "    \n",
    "  ⚠️ Так отмечены не обязательные к доработке моменты. Mожешь учесть их при редактировании проекта. На твое усмотрение.\n",
    "</div>\n",
    "    \n",
    "    \n",
    "<div class=\"alert alert-success\">\n",
    "  \n",
    "  <b>Комментарий ревьюера</b>\n",
    "    \n",
    "  ✔️ А так удачные решения и подходы, на которые стоит опираться в будущих проектах.\n",
    "</div>\n",
    "    \n",
    "    \n",
    "<div style=\"border:solid black 2px; padding: 20px\">\n",
    "  \n",
    "    \n",
    "  <b>Чек-лист доработок</b>\n",
    "    \n",
    "  📃 Такой комментарий будет в конце тетрадки. В нем будут еще раз указаны нюансы, требующие обязательного исправления.\n",
    "</div>\n",
    "\n",
    "Предлагаю работать над проектом в форме диалога: если ты <b>что-то меняешь</b> в работе по моим рекомендациям — <b>напиши об этом</b> в ячейке `Markdown` и помечай комментарий каким-то заметным цветом, например так:\n",
    "    \n",
    "    \n",
    "```\n",
    "<div class=\"alert alert-block alert-info\">\n",
    "  \n",
    "  <b>Комментарий cтудента</b>\n",
    "    \n",
    "  Текст комментария.\n",
    "</div>\n",
    "```\n",
    "    \n",
    "<div class=\"alert alert-block alert-info\">\n",
    "  \n",
    "  <b>Комментарий cтудента</b>\n",
    "    \n",
    "  Текст комментария.\n",
    "</div>\n",
    "    \n",
    "Пожалуйста, <b>не перемещай, не изменяй и не удаляй мои комментарии</b>. Такой формат работы поможет выполнить повторную проверку твоего проекта оперативнее.\n",
    "\n",
    "</div>"
   ]
  },
  {
   "cell_type": "markdown",
   "metadata": {
    "toc": true
   },
   "source": [
    "<h1>Содержание<span class=\"tocSkip\"></span></h1>\n",
    "<div class=\"toc\"><ul class=\"toc-item\"><li><span><a href=\"#Цель-проекта\" data-toc-modified-id=\"Цель-проекта-1\">Цель проекта</a></span></li><li><span><a href=\"#Описание-данных\" data-toc-modified-id=\"Описание-данных-2\">Описание данных</a></span></li><li><span><a href=\"#1.-Загрузка-и-подготовка-данных\" data-toc-modified-id=\"1.-Загрузка-и-подготовка-данных-3\">1. Загрузка и подготовка данных</a></span></li><li><span><a href=\"#2.-Приоритизация-гипотез\" data-toc-modified-id=\"2.-Приоритизация-гипотез-4\">2. Приоритизация гипотез</a></span></li><li><span><a href=\"#3.-Анализ-A/B-теста\" data-toc-modified-id=\"3.-Анализ-A/B-теста-5\">3. Анализ A/B-теста</a></span><ul class=\"toc-item\"><li><span><a href=\"#3.1.-Кумулятивная-выручка-по-группам\" data-toc-modified-id=\"3.1.-Кумулятивная-выручка-по-группам-5.1\">3.1. Кумулятивная выручка по группам</a></span></li><li><span><a href=\"#3.2.-Кумулятивный-средний-чек-по-группам\" data-toc-modified-id=\"3.2.-Кумулятивный-средний-чек-по-группам-5.2\">3.2. Кумулятивный средний чек по группам</a></span></li><li><span><a href=\"#3.3.-Относительное-изменение-кумулятивного-среднего-чека-группы-B-к-группе-A\" data-toc-modified-id=\"3.3.-Относительное-изменение-кумулятивного-среднего-чека-группы-B-к-группе-A-5.3\">3.3. Относительное изменение кумулятивного среднего чека группы B к группе A</a></span></li><li><span><a href=\"#3.4.-Кумулятивное-среднее-количество-заказов-на-посетителя-по-группам\" data-toc-modified-id=\"3.4.-Кумулятивное-среднее-количество-заказов-на-посетителя-по-группам-5.4\">3.4. Кумулятивное среднее количество заказов на посетителя по группам</a></span></li><li><span><a href=\"#3.5.-Относительное-изменение-кумулятивного-среднего-количества-заказов-на-посетителя-группы-B-к-группе-A\" data-toc-modified-id=\"3.5.-Относительное-изменение-кумулятивного-среднего-количества-заказов-на-посетителя-группы-B-к-группе-A-5.5\">3.5. Относительное изменение кумулятивного среднего количества заказов на посетителя группы B к группе A</a></span></li><li><span><a href=\"#3.6.-Точечный-график-количества-заказов-по-пользователям\" data-toc-modified-id=\"3.6.-Точечный-график-количества-заказов-по-пользователям-5.6\">3.6. Точечный график количества заказов по пользователям</a></span></li><li><span><a href=\"#3.7.-95-й-и-99-й-перцентили-количества-заказов-на-пользователя\" data-toc-modified-id=\"3.7.-95-й-и-99-й-перцентили-количества-заказов-на-пользователя-5.7\">3.7. 95-й и 99-й перцентили количества заказов на пользователя</a></span></li><li><span><a href=\"#3.8.-Точечный-график-стоимостей-заказов\" data-toc-modified-id=\"3.8.-Точечный-график-стоимостей-заказов-5.8\">3.8. Точечный график стоимостей заказов</a></span></li><li><span><a href=\"#3.9.-95-й-и-99-й-перцентили-стоимости-заказов\" data-toc-modified-id=\"3.9.-95-й-и-99-й-перцентили-стоимости-заказов-5.9\">3.9. 95-й и 99-й перцентили стоимости заказов</a></span></li><li><span><a href=\"#3.10.-Статистическая-значимость-различий-в-среднем-количестве-заказов-на-посетителя-между-группами-по-«сырым»-данным\" data-toc-modified-id=\"3.10.-Статистическая-значимость-различий-в-среднем-количестве-заказов-на-посетителя-между-группами-по-«сырым»-данным-5.10\">3.10. Статистическая значимость различий в среднем количестве заказов на посетителя между группами по «сырым» данным</a></span></li><li><span><a href=\"#3.11.-Статистическая-значимость-различий-в-среднем-чеке-заказа-между-группами-по-«сырым»-данным\" data-toc-modified-id=\"3.11.-Статистическая-значимость-различий-в-среднем-чеке-заказа-между-группами-по-«сырым»-данным-5.11\">3.11. Статистическая значимость различий в среднем чеке заказа между группами по «сырым» данным</a></span></li><li><span><a href=\"#3.12.-Статистическая-значимость-различий-в-среднем-количестве-заказов-на-посетителя-между-группами-по-«очищенным»-данным\" data-toc-modified-id=\"3.12.-Статистическая-значимость-различий-в-среднем-количестве-заказов-на-посетителя-между-группами-по-«очищенным»-данным-5.12\">3.12. Статистическая значимость различий в среднем количестве заказов на посетителя между группами по «очищенным» данным</a></span></li><li><span><a href=\"#3.13.-Cтатистическая-значимость-различий-в-среднем-чеке-заказа-между-группами-по-«очищенным»-данным\" data-toc-modified-id=\"3.13.-Cтатистическая-значимость-различий-в-среднем-чеке-заказа-между-группами-по-«очищенным»-данным-5.13\">3.13. Cтатистическая значимость различий в среднем чеке заказа между группами по «очищенным» данным</a></span></li><li><span><a href=\"#3.14.-Выводы-по-результатам-теста\" data-toc-modified-id=\"3.14.-Выводы-по-результатам-теста-5.14\">3.14. Выводы по результатам теста</a></span></li></ul></li></ul></div>"
   ]
  },
  {
   "cell_type": "markdown",
   "metadata": {},
   "source": [
    "# Цель проекта\n",
    "Приоритизировать гипотезы для увеличения выручки интернет-магазина, запустить A/B-тест и проанализировать результаты. "
   ]
  },
  {
   "cell_type": "markdown",
   "metadata": {},
   "source": [
    "# Описание данных\n",
    "Данные для первой части:\n",
    "* Hypothesis — краткое описание гипотезы;\n",
    "* Reach — охват пользователей по 10-балльной шкале;\n",
    "* Impact — влияние на пользователей по 10-балльной шкале;\n",
    "* Confidence — уверенность в гипотезе по 10-балльной шкале;\n",
    "* Efforts — затраты ресурсов на проверку гипотезы по 10-балльной шкале. Чем больше значение Efforts, тем дороже проверка гипотезы.\n",
    "\n",
    "Данные для второй части:\n",
    "* transactionId — идентификатор заказа;\n",
    "* visitorId — идентификатор пользователя, совершившего заказ;\n",
    "* date — дата, когда был совершён заказ;\n",
    "* revenue — выручка заказа;\n",
    "* group — группа A/B-теста, в которую попал заказ;\n",
    "* date — дата;\n",
    "* group — группа A/B-теста;\n",
    "* visitors — количество пользователей в указанную дату в указанной группе A/B-теста"
   ]
  },
  {
   "cell_type": "markdown",
   "metadata": {},
   "source": [
    "<div class=\"alert alert-success\">\n",
    "  \n",
    "  <b>Комментарий ревьюера</b>\n",
    "    \n",
    "  ✔️ Хорошо, что есть цели проекта.\n",
    "</div>\n",
    "<div class=\"alert alert-warning\">\n",
    "    \n",
    "  <b>Комментарий ревьюера</b>\n",
    "    \n",
    "  ⚠️ Стоит добавить еще название проекта.\n",
    "</div>"
   ]
  },
  {
   "cell_type": "markdown",
   "metadata": {},
   "source": [
    "# 1. Загрузка и подготовка данных"
   ]
  },
  {
   "cell_type": "code",
   "execution_count": 1,
   "metadata": {},
   "outputs": [],
   "source": [
    "import pandas as pd\n",
    "import datetime as dt\n",
    "import numpy as np\n",
    "import matplotlib.pyplot as plt\n",
    "from pandas.plotting import register_matplotlib_converters\n",
    "import warnings\n",
    "import scipy.stats as stats\n",
    "plt.rcParams ['figure.figsize'] = [15, 4]\n",
    "\n",
    "# конвертеры, которые позволяют использовать типы pandas в matplotlib  \n",
    "register_matplotlib_converters()\n",
    "\n",
    "pd.set_option('max_colwidth', 120)"
   ]
  },
  {
   "cell_type": "code",
   "execution_count": 2,
   "metadata": {},
   "outputs": [
    {
     "data": {
      "text/html": [
       "<div>\n",
       "<style scoped>\n",
       "    .dataframe tbody tr th:only-of-type {\n",
       "        vertical-align: middle;\n",
       "    }\n",
       "\n",
       "    .dataframe tbody tr th {\n",
       "        vertical-align: top;\n",
       "    }\n",
       "\n",
       "    .dataframe thead th {\n",
       "        text-align: right;\n",
       "    }\n",
       "</style>\n",
       "<table border=\"1\" class=\"dataframe\">\n",
       "  <thead>\n",
       "    <tr style=\"text-align: right;\">\n",
       "      <th></th>\n",
       "      <th>Hypothesis</th>\n",
       "      <th>Reach</th>\n",
       "      <th>Impact</th>\n",
       "      <th>Confidence</th>\n",
       "      <th>Efforts</th>\n",
       "    </tr>\n",
       "  </thead>\n",
       "  <tbody>\n",
       "    <tr>\n",
       "      <th>0</th>\n",
       "      <td>Добавить два новых канала привлечения трафика, что позволит привлекать на 30% больше пользователей</td>\n",
       "      <td>3</td>\n",
       "      <td>10</td>\n",
       "      <td>8</td>\n",
       "      <td>6</td>\n",
       "    </tr>\n",
       "    <tr>\n",
       "      <th>1</th>\n",
       "      <td>Запустить собственную службу доставки, что сократит срок доставки заказов</td>\n",
       "      <td>2</td>\n",
       "      <td>5</td>\n",
       "      <td>4</td>\n",
       "      <td>10</td>\n",
       "    </tr>\n",
       "    <tr>\n",
       "      <th>2</th>\n",
       "      <td>Добавить блоки рекомендаций товаров на сайт интернет магазина, чтобы повысить конверсию и средний чек заказа</td>\n",
       "      <td>8</td>\n",
       "      <td>3</td>\n",
       "      <td>7</td>\n",
       "      <td>3</td>\n",
       "    </tr>\n",
       "    <tr>\n",
       "      <th>3</th>\n",
       "      <td>Изменить структура категорий, что увеличит конверсию, т.к. пользователи быстрее найдут нужный товар</td>\n",
       "      <td>8</td>\n",
       "      <td>3</td>\n",
       "      <td>3</td>\n",
       "      <td>8</td>\n",
       "    </tr>\n",
       "    <tr>\n",
       "      <th>4</th>\n",
       "      <td>Изменить цвет фона главной страницы, чтобы увеличить вовлеченность пользователей</td>\n",
       "      <td>3</td>\n",
       "      <td>1</td>\n",
       "      <td>1</td>\n",
       "      <td>1</td>\n",
       "    </tr>\n",
       "    <tr>\n",
       "      <th>5</th>\n",
       "      <td>Добавить страницу отзывов клиентов о магазине, что позволит увеличить количество заказов</td>\n",
       "      <td>3</td>\n",
       "      <td>2</td>\n",
       "      <td>2</td>\n",
       "      <td>3</td>\n",
       "    </tr>\n",
       "    <tr>\n",
       "      <th>6</th>\n",
       "      <td>Показать на главной странице баннеры с актуальными акциями и распродажами, чтобы увеличить конверсию</td>\n",
       "      <td>5</td>\n",
       "      <td>3</td>\n",
       "      <td>8</td>\n",
       "      <td>3</td>\n",
       "    </tr>\n",
       "    <tr>\n",
       "      <th>7</th>\n",
       "      <td>Добавить форму подписки на все основные страницы, чтобы собрать базу клиентов для email-рассылок</td>\n",
       "      <td>10</td>\n",
       "      <td>7</td>\n",
       "      <td>8</td>\n",
       "      <td>5</td>\n",
       "    </tr>\n",
       "    <tr>\n",
       "      <th>8</th>\n",
       "      <td>Запустить акцию, дающую скидку на товар в день рождения</td>\n",
       "      <td>1</td>\n",
       "      <td>9</td>\n",
       "      <td>9</td>\n",
       "      <td>5</td>\n",
       "    </tr>\n",
       "  </tbody>\n",
       "</table>\n",
       "</div>"
      ],
      "text/plain": [
       "                                                                                                     Hypothesis  \\\n",
       "0            Добавить два новых канала привлечения трафика, что позволит привлекать на 30% больше пользователей   \n",
       "1                                     Запустить собственную службу доставки, что сократит срок доставки заказов   \n",
       "2  Добавить блоки рекомендаций товаров на сайт интернет магазина, чтобы повысить конверсию и средний чек заказа   \n",
       "3           Изменить структура категорий, что увеличит конверсию, т.к. пользователи быстрее найдут нужный товар   \n",
       "4                              Изменить цвет фона главной страницы, чтобы увеличить вовлеченность пользователей   \n",
       "5                      Добавить страницу отзывов клиентов о магазине, что позволит увеличить количество заказов   \n",
       "6          Показать на главной странице баннеры с актуальными акциями и распродажами, чтобы увеличить конверсию   \n",
       "7              Добавить форму подписки на все основные страницы, чтобы собрать базу клиентов для email-рассылок   \n",
       "8                                                       Запустить акцию, дающую скидку на товар в день рождения   \n",
       "\n",
       "   Reach  Impact  Confidence  Efforts  \n",
       "0      3      10           8        6  \n",
       "1      2       5           4       10  \n",
       "2      8       3           7        3  \n",
       "3      8       3           3        8  \n",
       "4      3       1           1        1  \n",
       "5      3       2           2        3  \n",
       "6      5       3           8        3  \n",
       "7     10       7           8        5  \n",
       "8      1       9           9        5  "
      ]
     },
     "execution_count": 2,
     "metadata": {},
     "output_type": "execute_result"
    }
   ],
   "source": [
    "hyp = pd.read_csv('/datasets/hypothesis.csv')\n",
    "orders = pd.read_csv('/datasets/orders.csv', parse_dates=['date'], dayfirst=True)\n",
    "visitors = pd.read_csv('/datasets/visitors.csv', parse_dates=['date'], dayfirst=True)\n",
    "hyp"
   ]
  },
  {
   "cell_type": "code",
   "execution_count": 3,
   "metadata": {},
   "outputs": [
    {
     "data": {
      "text/plain": [
       "Index(['hypothesis', 'reach', 'impact', 'confidence', 'efforts'], dtype='object')"
      ]
     },
     "execution_count": 3,
     "metadata": {},
     "output_type": "execute_result"
    }
   ],
   "source": [
    "#Приведем названия колонок к нижнему регистру\n",
    "hyp.columns = hyp.columns.str.lower()\n",
    "hyp.columns"
   ]
  },
  {
   "cell_type": "code",
   "execution_count": 4,
   "metadata": {},
   "outputs": [
    {
     "name": "stdout",
     "output_type": "stream",
     "text": [
      "<class 'pandas.core.frame.DataFrame'>\n",
      "RangeIndex: 9 entries, 0 to 8\n",
      "Data columns (total 5 columns):\n",
      " #   Column      Non-Null Count  Dtype \n",
      "---  ------      --------------  ----- \n",
      " 0   hypothesis  9 non-null      object\n",
      " 1   reach       9 non-null      int64 \n",
      " 2   impact      9 non-null      int64 \n",
      " 3   confidence  9 non-null      int64 \n",
      " 4   efforts     9 non-null      int64 \n",
      "dtypes: int64(4), object(1)\n",
      "memory usage: 488.0+ bytes\n"
     ]
    }
   ],
   "source": [
    "hyp.info()"
   ]
  },
  {
   "cell_type": "code",
   "execution_count": 5,
   "metadata": {},
   "outputs": [
    {
     "data": {
      "text/html": [
       "<div>\n",
       "<style scoped>\n",
       "    .dataframe tbody tr th:only-of-type {\n",
       "        vertical-align: middle;\n",
       "    }\n",
       "\n",
       "    .dataframe tbody tr th {\n",
       "        vertical-align: top;\n",
       "    }\n",
       "\n",
       "    .dataframe thead th {\n",
       "        text-align: right;\n",
       "    }\n",
       "</style>\n",
       "<table border=\"1\" class=\"dataframe\">\n",
       "  <thead>\n",
       "    <tr style=\"text-align: right;\">\n",
       "      <th></th>\n",
       "      <th>transactionId</th>\n",
       "      <th>visitorId</th>\n",
       "      <th>date</th>\n",
       "      <th>revenue</th>\n",
       "      <th>group</th>\n",
       "    </tr>\n",
       "  </thead>\n",
       "  <tbody>\n",
       "    <tr>\n",
       "      <th>0</th>\n",
       "      <td>3667963787</td>\n",
       "      <td>3312258926</td>\n",
       "      <td>2019-08-15</td>\n",
       "      <td>1650</td>\n",
       "      <td>B</td>\n",
       "    </tr>\n",
       "    <tr>\n",
       "      <th>1</th>\n",
       "      <td>2804400009</td>\n",
       "      <td>3642806036</td>\n",
       "      <td>2019-08-15</td>\n",
       "      <td>730</td>\n",
       "      <td>B</td>\n",
       "    </tr>\n",
       "    <tr>\n",
       "      <th>2</th>\n",
       "      <td>2961555356</td>\n",
       "      <td>4069496402</td>\n",
       "      <td>2019-08-15</td>\n",
       "      <td>400</td>\n",
       "      <td>A</td>\n",
       "    </tr>\n",
       "    <tr>\n",
       "      <th>3</th>\n",
       "      <td>3797467345</td>\n",
       "      <td>1196621759</td>\n",
       "      <td>2019-08-15</td>\n",
       "      <td>9759</td>\n",
       "      <td>B</td>\n",
       "    </tr>\n",
       "    <tr>\n",
       "      <th>4</th>\n",
       "      <td>2282983706</td>\n",
       "      <td>2322279887</td>\n",
       "      <td>2019-08-15</td>\n",
       "      <td>2308</td>\n",
       "      <td>B</td>\n",
       "    </tr>\n",
       "    <tr>\n",
       "      <th>5</th>\n",
       "      <td>182168103</td>\n",
       "      <td>935554773</td>\n",
       "      <td>2019-08-15</td>\n",
       "      <td>2210</td>\n",
       "      <td>B</td>\n",
       "    </tr>\n",
       "    <tr>\n",
       "      <th>6</th>\n",
       "      <td>398296753</td>\n",
       "      <td>2900797465</td>\n",
       "      <td>2019-08-15</td>\n",
       "      <td>1860</td>\n",
       "      <td>B</td>\n",
       "    </tr>\n",
       "    <tr>\n",
       "      <th>7</th>\n",
       "      <td>2626614568</td>\n",
       "      <td>78758296</td>\n",
       "      <td>2019-08-15</td>\n",
       "      <td>1044</td>\n",
       "      <td>A</td>\n",
       "    </tr>\n",
       "    <tr>\n",
       "      <th>8</th>\n",
       "      <td>1576988021</td>\n",
       "      <td>295230930</td>\n",
       "      <td>2019-08-15</td>\n",
       "      <td>13710</td>\n",
       "      <td>A</td>\n",
       "    </tr>\n",
       "    <tr>\n",
       "      <th>9</th>\n",
       "      <td>1506739906</td>\n",
       "      <td>1882260405</td>\n",
       "      <td>2019-08-15</td>\n",
       "      <td>1855</td>\n",
       "      <td>B</td>\n",
       "    </tr>\n",
       "  </tbody>\n",
       "</table>\n",
       "</div>"
      ],
      "text/plain": [
       "   transactionId   visitorId       date  revenue group\n",
       "0     3667963787  3312258926 2019-08-15     1650     B\n",
       "1     2804400009  3642806036 2019-08-15      730     B\n",
       "2     2961555356  4069496402 2019-08-15      400     A\n",
       "3     3797467345  1196621759 2019-08-15     9759     B\n",
       "4     2282983706  2322279887 2019-08-15     2308     B\n",
       "5      182168103   935554773 2019-08-15     2210     B\n",
       "6      398296753  2900797465 2019-08-15     1860     B\n",
       "7     2626614568    78758296 2019-08-15     1044     A\n",
       "8     1576988021   295230930 2019-08-15    13710     A\n",
       "9     1506739906  1882260405 2019-08-15     1855     B"
      ]
     },
     "execution_count": 5,
     "metadata": {},
     "output_type": "execute_result"
    }
   ],
   "source": [
    "orders.head(10)"
   ]
  },
  {
   "cell_type": "code",
   "execution_count": 6,
   "metadata": {},
   "outputs": [
    {
     "data": {
      "text/html": [
       "<div>\n",
       "<style scoped>\n",
       "    .dataframe tbody tr th:only-of-type {\n",
       "        vertical-align: middle;\n",
       "    }\n",
       "\n",
       "    .dataframe tbody tr th {\n",
       "        vertical-align: top;\n",
       "    }\n",
       "\n",
       "    .dataframe thead th {\n",
       "        text-align: right;\n",
       "    }\n",
       "</style>\n",
       "<table border=\"1\" class=\"dataframe\">\n",
       "  <thead>\n",
       "    <tr style=\"text-align: right;\">\n",
       "      <th></th>\n",
       "      <th>date</th>\n",
       "      <th>group</th>\n",
       "      <th>visitors</th>\n",
       "    </tr>\n",
       "  </thead>\n",
       "  <tbody>\n",
       "    <tr>\n",
       "      <th>0</th>\n",
       "      <td>2019-08-01</td>\n",
       "      <td>A</td>\n",
       "      <td>719</td>\n",
       "    </tr>\n",
       "    <tr>\n",
       "      <th>1</th>\n",
       "      <td>2019-08-02</td>\n",
       "      <td>A</td>\n",
       "      <td>619</td>\n",
       "    </tr>\n",
       "    <tr>\n",
       "      <th>2</th>\n",
       "      <td>2019-08-03</td>\n",
       "      <td>A</td>\n",
       "      <td>507</td>\n",
       "    </tr>\n",
       "    <tr>\n",
       "      <th>3</th>\n",
       "      <td>2019-08-04</td>\n",
       "      <td>A</td>\n",
       "      <td>717</td>\n",
       "    </tr>\n",
       "    <tr>\n",
       "      <th>4</th>\n",
       "      <td>2019-08-05</td>\n",
       "      <td>A</td>\n",
       "      <td>756</td>\n",
       "    </tr>\n",
       "    <tr>\n",
       "      <th>5</th>\n",
       "      <td>2019-08-06</td>\n",
       "      <td>A</td>\n",
       "      <td>667</td>\n",
       "    </tr>\n",
       "    <tr>\n",
       "      <th>6</th>\n",
       "      <td>2019-08-07</td>\n",
       "      <td>A</td>\n",
       "      <td>644</td>\n",
       "    </tr>\n",
       "    <tr>\n",
       "      <th>7</th>\n",
       "      <td>2019-08-08</td>\n",
       "      <td>A</td>\n",
       "      <td>610</td>\n",
       "    </tr>\n",
       "    <tr>\n",
       "      <th>8</th>\n",
       "      <td>2019-08-09</td>\n",
       "      <td>A</td>\n",
       "      <td>617</td>\n",
       "    </tr>\n",
       "    <tr>\n",
       "      <th>9</th>\n",
       "      <td>2019-08-10</td>\n",
       "      <td>A</td>\n",
       "      <td>406</td>\n",
       "    </tr>\n",
       "  </tbody>\n",
       "</table>\n",
       "</div>"
      ],
      "text/plain": [
       "        date group  visitors\n",
       "0 2019-08-01     A       719\n",
       "1 2019-08-02     A       619\n",
       "2 2019-08-03     A       507\n",
       "3 2019-08-04     A       717\n",
       "4 2019-08-05     A       756\n",
       "5 2019-08-06     A       667\n",
       "6 2019-08-07     A       644\n",
       "7 2019-08-08     A       610\n",
       "8 2019-08-09     A       617\n",
       "9 2019-08-10     A       406"
      ]
     },
     "execution_count": 6,
     "metadata": {},
     "output_type": "execute_result"
    }
   ],
   "source": [
    "visitors.head(10)"
   ]
  },
  {
   "cell_type": "code",
   "execution_count": 7,
   "metadata": {},
   "outputs": [
    {
     "data": {
      "text/plain": [
       "transactionId    0\n",
       "visitorId        0\n",
       "date             0\n",
       "revenue          0\n",
       "group            0\n",
       "dtype: int64"
      ]
     },
     "execution_count": 7,
     "metadata": {},
     "output_type": "execute_result"
    }
   ],
   "source": [
    "orders[orders.duplicated()].count()"
   ]
  },
  {
   "cell_type": "code",
   "execution_count": 8,
   "metadata": {},
   "outputs": [
    {
     "data": {
      "text/plain": [
       "date        0\n",
       "group       0\n",
       "visitors    0\n",
       "dtype: int64"
      ]
     },
     "execution_count": 8,
     "metadata": {},
     "output_type": "execute_result"
    }
   ],
   "source": [
    "visitors[visitors.duplicated()].count()"
   ]
  },
  {
   "cell_type": "code",
   "execution_count": 9,
   "metadata": {},
   "outputs": [
    {
     "data": {
      "text/plain": [
       "transactionId    0\n",
       "visitorId        0\n",
       "date             0\n",
       "revenue          0\n",
       "group            0\n",
       "dtype: int64"
      ]
     },
     "execution_count": 9,
     "metadata": {},
     "output_type": "execute_result"
    }
   ],
   "source": [
    "orders[orders.isna()].count()"
   ]
  },
  {
   "cell_type": "code",
   "execution_count": 10,
   "metadata": {},
   "outputs": [
    {
     "data": {
      "text/plain": [
       "date        0\n",
       "group       0\n",
       "visitors    0\n",
       "dtype: int64"
      ]
     },
     "execution_count": 10,
     "metadata": {},
     "output_type": "execute_result"
    }
   ],
   "source": [
    "visitors[visitors.isna()].count()"
   ]
  },
  {
   "cell_type": "code",
   "execution_count": 11,
   "metadata": {},
   "outputs": [
    {
     "name": "stdout",
     "output_type": "stream",
     "text": [
      "<class 'pandas.core.frame.DataFrame'>\n",
      "RangeIndex: 1197 entries, 0 to 1196\n",
      "Data columns (total 5 columns):\n",
      " #   Column         Non-Null Count  Dtype         \n",
      "---  ------         --------------  -----         \n",
      " 0   transactionId  1197 non-null   int64         \n",
      " 1   visitorId      1197 non-null   int64         \n",
      " 2   date           1197 non-null   datetime64[ns]\n",
      " 3   revenue        1197 non-null   int64         \n",
      " 4   group          1197 non-null   object        \n",
      "dtypes: datetime64[ns](1), int64(3), object(1)\n",
      "memory usage: 46.9+ KB\n"
     ]
    }
   ],
   "source": [
    "orders.info()"
   ]
  },
  {
   "cell_type": "code",
   "execution_count": 12,
   "metadata": {},
   "outputs": [
    {
     "name": "stdout",
     "output_type": "stream",
     "text": [
      "<class 'pandas.core.frame.DataFrame'>\n",
      "RangeIndex: 62 entries, 0 to 61\n",
      "Data columns (total 3 columns):\n",
      " #   Column    Non-Null Count  Dtype         \n",
      "---  ------    --------------  -----         \n",
      " 0   date      62 non-null     datetime64[ns]\n",
      " 1   group     62 non-null     object        \n",
      " 2   visitors  62 non-null     int64         \n",
      "dtypes: datetime64[ns](1), int64(1), object(1)\n",
      "memory usage: 1.6+ KB\n"
     ]
    }
   ],
   "source": [
    "visitors.info()"
   ]
  },
  {
   "cell_type": "markdown",
   "metadata": {},
   "source": [
    "Пропуски, дубликаты в данных отсутствуют, типы данных соответствуют содержимому."
   ]
  },
  {
   "cell_type": "markdown",
   "metadata": {},
   "source": [
    "<div class=\"alert alert-success\">\n",
    "  \n",
    "  <b>Комментарий ревьюера</b>\n",
    "    \n",
    "  ✔️ Данные получены и подготовлены к анализу! \n",
    "</div>"
   ]
  },
  {
   "cell_type": "markdown",
   "metadata": {},
   "source": [
    "# 2. Приоритизация гипотез"
   ]
  },
  {
   "cell_type": "code",
   "execution_count": 13,
   "metadata": {},
   "outputs": [
    {
     "data": {
      "text/html": [
       "<div>\n",
       "<style scoped>\n",
       "    .dataframe tbody tr th:only-of-type {\n",
       "        vertical-align: middle;\n",
       "    }\n",
       "\n",
       "    .dataframe tbody tr th {\n",
       "        vertical-align: top;\n",
       "    }\n",
       "\n",
       "    .dataframe thead th {\n",
       "        text-align: right;\n",
       "    }\n",
       "</style>\n",
       "<table border=\"1\" class=\"dataframe\">\n",
       "  <thead>\n",
       "    <tr style=\"text-align: right;\">\n",
       "      <th></th>\n",
       "      <th>hypothesis</th>\n",
       "      <th>ICE</th>\n",
       "    </tr>\n",
       "  </thead>\n",
       "  <tbody>\n",
       "    <tr>\n",
       "      <th>8</th>\n",
       "      <td>Запустить акцию, дающую скидку на товар в день рождения</td>\n",
       "      <td>16.200000</td>\n",
       "    </tr>\n",
       "    <tr>\n",
       "      <th>0</th>\n",
       "      <td>Добавить два новых канала привлечения трафика, что позволит привлекать на 30% больше пользователей</td>\n",
       "      <td>13.333333</td>\n",
       "    </tr>\n",
       "    <tr>\n",
       "      <th>7</th>\n",
       "      <td>Добавить форму подписки на все основные страницы, чтобы собрать базу клиентов для email-рассылок</td>\n",
       "      <td>11.200000</td>\n",
       "    </tr>\n",
       "    <tr>\n",
       "      <th>6</th>\n",
       "      <td>Показать на главной странице баннеры с актуальными акциями и распродажами, чтобы увеличить конверсию</td>\n",
       "      <td>8.000000</td>\n",
       "    </tr>\n",
       "    <tr>\n",
       "      <th>2</th>\n",
       "      <td>Добавить блоки рекомендаций товаров на сайт интернет магазина, чтобы повысить конверсию и средний чек заказа</td>\n",
       "      <td>7.000000</td>\n",
       "    </tr>\n",
       "    <tr>\n",
       "      <th>1</th>\n",
       "      <td>Запустить собственную службу доставки, что сократит срок доставки заказов</td>\n",
       "      <td>2.000000</td>\n",
       "    </tr>\n",
       "    <tr>\n",
       "      <th>5</th>\n",
       "      <td>Добавить страницу отзывов клиентов о магазине, что позволит увеличить количество заказов</td>\n",
       "      <td>1.333333</td>\n",
       "    </tr>\n",
       "    <tr>\n",
       "      <th>3</th>\n",
       "      <td>Изменить структура категорий, что увеличит конверсию, т.к. пользователи быстрее найдут нужный товар</td>\n",
       "      <td>1.125000</td>\n",
       "    </tr>\n",
       "    <tr>\n",
       "      <th>4</th>\n",
       "      <td>Изменить цвет фона главной страницы, чтобы увеличить вовлеченность пользователей</td>\n",
       "      <td>1.000000</td>\n",
       "    </tr>\n",
       "  </tbody>\n",
       "</table>\n",
       "</div>"
      ],
      "text/plain": [
       "                                                                                                     hypothesis  \\\n",
       "8                                                       Запустить акцию, дающую скидку на товар в день рождения   \n",
       "0            Добавить два новых канала привлечения трафика, что позволит привлекать на 30% больше пользователей   \n",
       "7              Добавить форму подписки на все основные страницы, чтобы собрать базу клиентов для email-рассылок   \n",
       "6          Показать на главной странице баннеры с актуальными акциями и распродажами, чтобы увеличить конверсию   \n",
       "2  Добавить блоки рекомендаций товаров на сайт интернет магазина, чтобы повысить конверсию и средний чек заказа   \n",
       "1                                     Запустить собственную службу доставки, что сократит срок доставки заказов   \n",
       "5                      Добавить страницу отзывов клиентов о магазине, что позволит увеличить количество заказов   \n",
       "3           Изменить структура категорий, что увеличит конверсию, т.к. пользователи быстрее найдут нужный товар   \n",
       "4                              Изменить цвет фона главной страницы, чтобы увеличить вовлеченность пользователей   \n",
       "\n",
       "         ICE  \n",
       "8  16.200000  \n",
       "0  13.333333  \n",
       "7  11.200000  \n",
       "6   8.000000  \n",
       "2   7.000000  \n",
       "1   2.000000  \n",
       "5   1.333333  \n",
       "3   1.125000  \n",
       "4   1.000000  "
      ]
     },
     "execution_count": 13,
     "metadata": {},
     "output_type": "execute_result"
    }
   ],
   "source": [
    "hyp['ICE'] = hyp['impact']*hyp['confidence']/hyp['efforts']\n",
    "hyp[['hypothesis', 'ICE']].sort_values(by='ICE', ascending=False)"
   ]
  },
  {
   "cell_type": "markdown",
   "metadata": {},
   "source": [
    "Наиболее перспективные гипотезы по ICE: 0, 7, 8."
   ]
  },
  {
   "cell_type": "code",
   "execution_count": 14,
   "metadata": {},
   "outputs": [
    {
     "data": {
      "text/html": [
       "<div>\n",
       "<style scoped>\n",
       "    .dataframe tbody tr th:only-of-type {\n",
       "        vertical-align: middle;\n",
       "    }\n",
       "\n",
       "    .dataframe tbody tr th {\n",
       "        vertical-align: top;\n",
       "    }\n",
       "\n",
       "    .dataframe thead th {\n",
       "        text-align: right;\n",
       "    }\n",
       "</style>\n",
       "<table border=\"1\" class=\"dataframe\">\n",
       "  <thead>\n",
       "    <tr style=\"text-align: right;\">\n",
       "      <th></th>\n",
       "      <th>hypothesis</th>\n",
       "      <th>RICE</th>\n",
       "    </tr>\n",
       "  </thead>\n",
       "  <tbody>\n",
       "    <tr>\n",
       "      <th>7</th>\n",
       "      <td>Добавить форму подписки на все основные страницы, чтобы собрать базу клиентов для email-рассылок</td>\n",
       "      <td>112.0</td>\n",
       "    </tr>\n",
       "    <tr>\n",
       "      <th>2</th>\n",
       "      <td>Добавить блоки рекомендаций товаров на сайт интернет магазина, чтобы повысить конверсию и средний чек заказа</td>\n",
       "      <td>56.0</td>\n",
       "    </tr>\n",
       "    <tr>\n",
       "      <th>0</th>\n",
       "      <td>Добавить два новых канала привлечения трафика, что позволит привлекать на 30% больше пользователей</td>\n",
       "      <td>40.0</td>\n",
       "    </tr>\n",
       "    <tr>\n",
       "      <th>6</th>\n",
       "      <td>Показать на главной странице баннеры с актуальными акциями и распродажами, чтобы увеличить конверсию</td>\n",
       "      <td>40.0</td>\n",
       "    </tr>\n",
       "    <tr>\n",
       "      <th>8</th>\n",
       "      <td>Запустить акцию, дающую скидку на товар в день рождения</td>\n",
       "      <td>16.2</td>\n",
       "    </tr>\n",
       "    <tr>\n",
       "      <th>3</th>\n",
       "      <td>Изменить структура категорий, что увеличит конверсию, т.к. пользователи быстрее найдут нужный товар</td>\n",
       "      <td>9.0</td>\n",
       "    </tr>\n",
       "    <tr>\n",
       "      <th>1</th>\n",
       "      <td>Запустить собственную службу доставки, что сократит срок доставки заказов</td>\n",
       "      <td>4.0</td>\n",
       "    </tr>\n",
       "    <tr>\n",
       "      <th>5</th>\n",
       "      <td>Добавить страницу отзывов клиентов о магазине, что позволит увеличить количество заказов</td>\n",
       "      <td>4.0</td>\n",
       "    </tr>\n",
       "    <tr>\n",
       "      <th>4</th>\n",
       "      <td>Изменить цвет фона главной страницы, чтобы увеличить вовлеченность пользователей</td>\n",
       "      <td>3.0</td>\n",
       "    </tr>\n",
       "  </tbody>\n",
       "</table>\n",
       "</div>"
      ],
      "text/plain": [
       "                                                                                                     hypothesis  \\\n",
       "7              Добавить форму подписки на все основные страницы, чтобы собрать базу клиентов для email-рассылок   \n",
       "2  Добавить блоки рекомендаций товаров на сайт интернет магазина, чтобы повысить конверсию и средний чек заказа   \n",
       "0            Добавить два новых канала привлечения трафика, что позволит привлекать на 30% больше пользователей   \n",
       "6          Показать на главной странице баннеры с актуальными акциями и распродажами, чтобы увеличить конверсию   \n",
       "8                                                       Запустить акцию, дающую скидку на товар в день рождения   \n",
       "3           Изменить структура категорий, что увеличит конверсию, т.к. пользователи быстрее найдут нужный товар   \n",
       "1                                     Запустить собственную службу доставки, что сократит срок доставки заказов   \n",
       "5                      Добавить страницу отзывов клиентов о магазине, что позволит увеличить количество заказов   \n",
       "4                              Изменить цвет фона главной страницы, чтобы увеличить вовлеченность пользователей   \n",
       "\n",
       "    RICE  \n",
       "7  112.0  \n",
       "2   56.0  \n",
       "0   40.0  \n",
       "6   40.0  \n",
       "8   16.2  \n",
       "3    9.0  \n",
       "1    4.0  \n",
       "5    4.0  \n",
       "4    3.0  "
      ]
     },
     "execution_count": 14,
     "metadata": {},
     "output_type": "execute_result"
    }
   ],
   "source": [
    "hyp['RICE'] = hyp['reach']*hyp['impact']*hyp['confidence']/hyp['efforts']\n",
    "hyp[['hypothesis', 'RICE']].sort_values(by='RICE', ascending=False)"
   ]
  },
  {
   "cell_type": "markdown",
   "metadata": {},
   "source": [
    "Наиболее перспективные гипотезы по RICE: 0, 2, 6, 7.\n",
    "\n",
    "Гипотезы 0 и 7 по-прежнему самые перспективные. При этом гипотеза 7 резко поднялась вверх, так как ее параметр reach равен 10, она затронет большое количество пользователей. Также поднялась гипотеза 2 с параметром охвата, равным 8. Гипотеза 8 ушла из числа перспективных, так как ее параметр reach составляет лишь 1."
   ]
  },
  {
   "cell_type": "markdown",
   "metadata": {},
   "source": [
    "<div class=\"alert alert-success\">\n",
    "  \n",
    "  <b>Комментарий ревьюера</b>\n",
    "    \n",
    "  ✔️ Хорошая работа, корректно применены фреймворки и проанализированы полученные результаты. \n",
    "        \n",
    "    \n",
    "Результаты можно было бы объединить в единой таблице для наглядности. Также их можно было бы проранжировать и выделить цветом: https://pandas.pydata.org/pandas-docs/stable/user_guide/style.html\n",
    "\n",
    "А в качестве визуализации изменения приоритетов можно использовать: <a href=\"https://datayoga.ru/tpost/zh3s62fori-sloupgraf\">slope graph</a>, <a href=\"https://cduvallet.github.io/posts/2018/03/slopegraphs-in-python\">slope graph 2</a>, <a href=\"https://chart-studio.plotly.com/~pcchang/224/slopegraph-spending-and-academic-performance-by-states-doc/#/\">реализация на plotly</a>\n",
    "   \n",
    "</div>"
   ]
  },
  {
   "cell_type": "markdown",
   "metadata": {},
   "source": [
    "# 3. Анализ A/B-теста"
   ]
  },
  {
   "cell_type": "markdown",
   "metadata": {},
   "source": [
    "<div class=\"alert alert-danger\">\n",
    "    \n",
    "  <b>Комментарий ревьюера</b>\n",
    "  \n",
    " \n",
    "  ❌ Еще остается не выполненным на этапе предобработки, но тем не менее важным - проверить корректность разбиения пользователей на группы - может быть есть пользователи, попавшие в обе группы? Если таковые пользователи есть, нужно их выявить и выработать стратегию работы с такими данными. Пересечение групп сильно влияет на результаты теста, если процент достаточно большой. Если есть возможность их можно удалить и посмотреть, какие результаты получаются без них, в любом случае к результатам теста придется относится осторожно.\n",
    "</div>"
   ]
  },
  {
   "cell_type": "markdown",
   "metadata": {},
   "source": [
    "<div class=\"alert alert-block alert-info\">\n",
    "\n",
    "  <b>Комментарий cтудента</b>\n",
    "\n",
    "  Ниже.\n",
    "</div>\n",
    "<div class=\"alert alert-success\">\n",
    "  \n",
    "  <b>Комментарий ревьюера v.2</b>\n",
    "    \n",
    "  ✔️ Хорошо, результаты теста они больше не искажают. \n",
    "</div>"
   ]
  },
  {
   "cell_type": "code",
   "execution_count": 15,
   "metadata": {},
   "outputs": [],
   "source": [
    "double = orders[orders['visitorId'].isin(orders[orders['group']=='A']['visitorId']) & \n",
    "       orders['visitorId'].isin(orders[orders['group']=='B']['visitorId'])]"
   ]
  },
  {
   "cell_type": "code",
   "execution_count": 16,
   "metadata": {},
   "outputs": [
    {
     "data": {
      "text/plain": [
       "58"
      ]
     },
     "execution_count": 16,
     "metadata": {},
     "output_type": "execute_result"
    }
   ],
   "source": [
    "double['visitorId'].nunique()"
   ]
  },
  {
   "cell_type": "markdown",
   "metadata": {},
   "source": [
    "Есть пользователи, которые находятся и в группе A, и в группе B. Всего их 58 штук."
   ]
  },
  {
   "cell_type": "code",
   "execution_count": 17,
   "metadata": {},
   "outputs": [
    {
     "data": {
      "text/plain": [
       "5.63"
      ]
     },
     "execution_count": 17,
     "metadata": {},
     "output_type": "execute_result"
    }
   ],
   "source": [
    "round(double['visitorId'].nunique()/orders['visitorId'].nunique()*100, 2)"
   ]
  },
  {
   "cell_type": "markdown",
   "metadata": {},
   "source": [
    "Такие пользователи составляют 5.63 процента от общего числа пользователей. Удалим их."
   ]
  },
  {
   "cell_type": "code",
   "execution_count": 18,
   "metadata": {},
   "outputs": [
    {
     "data": {
      "text/plain": [
       "1197"
      ]
     },
     "execution_count": 18,
     "metadata": {},
     "output_type": "execute_result"
    }
   ],
   "source": [
    "orders.shape[0]"
   ]
  },
  {
   "cell_type": "code",
   "execution_count": 19,
   "metadata": {},
   "outputs": [],
   "source": [
    "orders = orders[~orders['visitorId'].isin(double['visitorId'])]"
   ]
  },
  {
   "cell_type": "code",
   "execution_count": 20,
   "metadata": {},
   "outputs": [
    {
     "data": {
      "text/plain": [
       "1016"
      ]
     },
     "execution_count": 20,
     "metadata": {},
     "output_type": "execute_result"
    }
   ],
   "source": [
    "orders.shape[0]"
   ]
  },
  {
   "cell_type": "markdown",
   "metadata": {},
   "source": [
    "## 3.1. Кумулятивная выручка по группам"
   ]
  },
  {
   "cell_type": "code",
   "execution_count": 21,
   "metadata": {},
   "outputs": [
    {
     "data": {
      "image/png": "[encoded data removed]",
      "text/plain": [
       "<Figure size 1080x288 with 1 Axes>"
      ]
     },
     "metadata": {
      "needs_background": "light"
     },
     "output_type": "display_data"
    }
   ],
   "source": [
    "datesGroups = orders[['date', 'group']].drop_duplicates()\n",
    "\n",
    "ordersAggregated = datesGroups.apply(\n",
    "    lambda x: orders[\n",
    "        np.logical_and(\n",
    "            orders['date'] <= x['date'], orders['group'] == x['group']\n",
    "        )\n",
    "    ].agg(\n",
    "        {\n",
    "            'date': 'max',\n",
    "            'group': 'max',\n",
    "            'transactionId': 'nunique',\n",
    "            'visitorId': 'nunique',\n",
    "            'revenue': 'sum',\n",
    "        }\n",
    "    ),\n",
    "    axis=1,\n",
    ").sort_values(by=['date', 'group'])\n",
    "\n",
    "visitorsAggregated = datesGroups.apply(\n",
    "    lambda x: visitors[\n",
    "        np.logical_and(\n",
    "            visitors['date'] <= x['date'], visitors['group'] == x['group']\n",
    "        )\n",
    "    ].agg({'date': 'max', 'group': 'max', 'visitors': 'sum'}),\n",
    "    axis=1,\n",
    ").sort_values(by=['date', 'group'])\n",
    "\n",
    "cumulativeData = ordersAggregated.merge(\n",
    "    visitorsAggregated, left_on=['date', 'group'], right_on=['date', 'group']\n",
    ")\n",
    "cumulativeData.columns = [\n",
    "    'date',\n",
    "    'group',\n",
    "    'orders',\n",
    "    'buyers',\n",
    "    'revenue',\n",
    "    'visitors',\n",
    "]\n",
    "\n",
    "import matplotlib.pyplot as plt\n",
    "\n",
    "# датафрейм с кумулятивным количеством заказов и кумулятивной выручкой по дням в группе А\n",
    "cumulativeRevenueA = cumulativeData[cumulativeData['group']=='A'][['date','revenue', 'orders']]\n",
    "\n",
    "# датафрейм с кумулятивным количеством заказов и кумулятивной выручкой по дням в группе B\n",
    "cumulativeRevenueB = cumulativeData[cumulativeData['group']=='B'][['date','revenue', 'orders']]\n",
    "\n",
    "# Строим график выручки группы А\n",
    "plt.plot(cumulativeRevenueA['date'], cumulativeRevenueA['revenue'], label='A')\n",
    "\n",
    "# Строим график выручки группы B\n",
    "plt.plot(cumulativeRevenueB['date'], cumulativeRevenueB['revenue'], label='B')\n",
    "plt.xlabel('Дата')\n",
    "plt.ylabel('Выручка')\n",
    "plt.title('Кумулятивная выручка')\n",
    "plt.grid(True)\n",
    "plt.legend();"
   ]
  },
  {
   "cell_type": "markdown",
   "metadata": {},
   "source": [
    "Выручка увеличивается в течение всего теста.\n",
    "\n",
    "На протяжении всего теста выручка в группе B превышает выручку в группе A. В середине теста в результатах группы B произошел резкий скачок, это может говорить о резком росте числа заказов или о появлении дорогих заказов."
   ]
  },
  {
   "cell_type": "markdown",
   "metadata": {},
   "source": [
    "<div class=\"alert alert-success\">\n",
    "  \n",
    "  <b>Комментарий ревьюера</b>\n",
    "    \n",
    "  ✔️ График построен верно и можем зафиксировать аномалию в группе В.\n",
    "</div>\n",
    "<div class=\"alert alert-danger\">\n",
    "<b>Комментарий ревьюера</b>\n",
    "    \n",
    "  ❌  Надо у всех графиков или поменять угол надписи даты, или увеличить график, сейчас даты нечитаемые.  \n",
    "    \n",
    "</div>"
   ]
  },
  {
   "cell_type": "markdown",
   "metadata": {},
   "source": [
    "<div class=\"alert alert-block alert-info\">\n",
    "\n",
    "  <b>Комментарий cтудента</b>\n",
    "\n",
    "  Графики увеличены.\n",
    "</div>\n",
    "<div class=\"alert alert-success\">\n",
    "  \n",
    "  <b>Комментарий ревьюера v.2</b>\n",
    "    \n",
    "  ✔️ 👌\n",
    "</div>"
   ]
  },
  {
   "cell_type": "markdown",
   "metadata": {},
   "source": [
    "## 3.2. Кумулятивный средний чек по группам"
   ]
  },
  {
   "cell_type": "code",
   "execution_count": 22,
   "metadata": {},
   "outputs": [
    {
     "data": {
      "image/png": "[encoded data removed]",
      "text/plain": [
       "<Figure size 1080x288 with 1 Axes>"
      ]
     },
     "metadata": {
      "needs_background": "light"
     },
     "output_type": "display_data"
    }
   ],
   "source": [
    "plt.plot(cumulativeRevenueA['date'], cumulativeRevenueA['revenue']/cumulativeRevenueA['orders'], label='A')\n",
    "plt.plot(cumulativeRevenueB['date'], cumulativeRevenueB['revenue']/cumulativeRevenueB['orders'], label='B')\n",
    "plt.xlabel('Дата')\n",
    "plt.ylabel('Средний чек')\n",
    "plt.title('Кумулятивный средний чек')\n",
    "plt.grid(True)\n",
    "plt.legend();"
   ]
  },
  {
   "cell_type": "markdown",
   "metadata": {},
   "source": [
    "Кумулятивное значение среднего чека по группам колеблется. Вероятно, в группу B в середине теста попали очень дорогие заказы. По этим результатам нельзя принять решение."
   ]
  },
  {
   "cell_type": "markdown",
   "metadata": {},
   "source": [
    "<div class=\"alert alert-success\">\n",
    "  \n",
    "  <b>Комментарий ревьюера</b>\n",
    "    \n",
    "  ✔️ Тут так-же группа В выделяется.\n",
    "</div>"
   ]
  },
  {
   "cell_type": "markdown",
   "metadata": {},
   "source": [
    "## 3.3. Относительное изменение кумулятивного среднего чека группы B к группе A"
   ]
  },
  {
   "cell_type": "code",
   "execution_count": 23,
   "metadata": {},
   "outputs": [
    {
     "data": {
      "image/png": "[encoded data removed]",
      "text/plain": [
       "<Figure size 1080x288 with 1 Axes>"
      ]
     },
     "metadata": {
      "needs_background": "light"
     },
     "output_type": "display_data"
    }
   ],
   "source": [
    "# собираем данные в одном датафрейме\n",
    "mergedCumulativeRevenue = cumulativeRevenueA.merge(cumulativeRevenueB, left_on='date', right_on='date', how='left', suffixes=['A', 'B'])\n",
    "\n",
    "# cтроим отношение средних чеков\n",
    "plt.plot(mergedCumulativeRevenue['date'], (mergedCumulativeRevenue['revenueB']/mergedCumulativeRevenue['ordersB'])/(mergedCumulativeRevenue['revenueA']/mergedCumulativeRevenue['ordersA'])-1)\n",
    "\n",
    "# добавляем ось X\n",
    "plt.axhline(y=0, color='black', linestyle='--')\n",
    "\n",
    "plt.xlabel('Дата')\n",
    "plt.ylabel('Изменение среднего чека')\n",
    "plt.title('Изменение кумулятивного среднего чека группы B к группе A')\n",
    "plt.grid(True);"
   ]
  },
  {
   "cell_type": "markdown",
   "metadata": {},
   "source": [
    "На графике видны резкие скачки, вероятно, в эти даты появились аномалии в виде крупных заказов."
   ]
  },
  {
   "cell_type": "markdown",
   "metadata": {},
   "source": [
    "<div class=\"alert alert-success\">\n",
    "  \n",
    "  <b>Комментарий ревьюера</b>\n",
    "    \n",
    "  ✔️ Верно, похоже на крупные заказы.\n",
    "</div>"
   ]
  },
  {
   "cell_type": "markdown",
   "metadata": {},
   "source": [
    "## 3.4. Кумулятивное среднее количество заказов на посетителя по группам"
   ]
  },
  {
   "cell_type": "code",
   "execution_count": 24,
   "metadata": {},
   "outputs": [
    {
     "data": {
      "image/png": "[encoded data removed]",
      "text/plain": [
       "<Figure size 1080x288 with 1 Axes>"
      ]
     },
     "metadata": {
      "needs_background": "light"
     },
     "output_type": "display_data"
    }
   ],
   "source": [
    "# считаем среднее количество заказов на посетителя\n",
    "cumulativeData['conversion'] = cumulativeData['orders']/cumulativeData['visitors']\n",
    "\n",
    "# отделяем данные по группе A\n",
    "cumulativeDataA = cumulativeData[cumulativeData['group']=='A']\n",
    "\n",
    "# отделяем данные по группе B\n",
    "cumulativeDataB = cumulativeData[cumulativeData['group']=='B']\n",
    "\n",
    "# строим графики\n",
    "plt.plot(cumulativeDataA['date'], cumulativeDataA['conversion'], label='A')\n",
    "plt.plot(cumulativeDataB['date'], cumulativeDataB['conversion'], label='B')\n",
    "plt.legend()\n",
    "\n",
    "#задаем масштаб осей\n",
    "plt.axis([visitors['date'].min(), visitors['date'].max(), 0, 0.05])\n",
    "\n",
    "plt.xlabel('Дата')\n",
    "plt.ylabel('Конверсия')\n",
    "plt.title('Кумулятивное среднее количество заказов на посетителя')\n",
    "plt.grid(True);"
   ]
  },
  {
   "cell_type": "markdown",
   "metadata": {},
   "source": [
    "В начале теста графики колебались, и группа А имела большее среднее количество заказов, чем группа B. Но после того, как графики выровнялись, количество заказов в группе B установилось стабильно выше, чем в группе А."
   ]
  },
  {
   "cell_type": "markdown",
   "metadata": {},
   "source": [
    "<div class=\"alert alert-success\">\n",
    "  \n",
    "  <b>Комментарий ревьюера</b>\n",
    "    \n",
    "  ✔️ Группа В в лидерах.\n",
    "</div>"
   ]
  },
  {
   "cell_type": "markdown",
   "metadata": {},
   "source": [
    "## 3.5. Относительное изменение кумулятивного среднего количества заказов на посетителя группы B к группе A"
   ]
  },
  {
   "cell_type": "code",
   "execution_count": 25,
   "metadata": {},
   "outputs": [
    {
     "data": {
      "image/png": "[encoded data removed]",
      "text/plain": [
       "<Figure size 1080x288 with 1 Axes>"
      ]
     },
     "metadata": {
      "needs_background": "light"
     },
     "output_type": "display_data"
    }
   ],
   "source": [
    "mergedCumulativeConversions = cumulativeDataA[['date','conversion']].merge(cumulativeDataB[['date','conversion']], left_on='date', right_on='date', how='left', suffixes=['A', 'B'])\n",
    "\n",
    "plt.plot(mergedCumulativeConversions['date'], mergedCumulativeConversions['conversionB']/mergedCumulativeConversions['conversionA']-1)\n",
    "\n",
    "plt.axhline(y=0, color='black', linestyle='--')\n",
    "plt.axhline(y=0.2, color='grey', linestyle='--')\n",
    "plt.axis([visitors['date'].min(), visitors['date'].max(), -0.5, 0.5])\n",
    "\n",
    "plt.xlabel('Дата')\n",
    "plt.ylabel('Прирост среднего количества заказов')\n",
    "plt.title('Относительный прирост кумулятивного среднего количества заказов на посетителя группы B относительно группы A')\n",
    "plt.grid(True);"
   ]
  },
  {
   "cell_type": "markdown",
   "metadata": {},
   "source": [
    "С начала теста группа B выигрывала относительно группы А, разница в приросте среднего количества заказов достигла 20 процентов. Во второй половине теста разница стала уменьшаться, значение зафиксировалось на 10-15 процентах."
   ]
  },
  {
   "cell_type": "markdown",
   "metadata": {},
   "source": [
    "<div class=\"alert alert-success\">\n",
    "  \n",
    "  <b>Комментарий ревьюера</b>\n",
    "    \n",
    "  ✔️ Да, группа В выше, а еще в последней трети эксперимента наблюдается стабилизация результатов.\n",
    "</div>\n"
   ]
  },
  {
   "cell_type": "markdown",
   "metadata": {},
   "source": [
    "## 3.6. Точечный график количества заказов по пользователям"
   ]
  },
  {
   "cell_type": "code",
   "execution_count": 26,
   "metadata": {},
   "outputs": [
    {
     "name": "stdout",
     "output_type": "stream",
     "text": [
      "         userId  orders\n",
      "908  3967698036       3\n",
      "55    249864742       3\n",
      "478  2108163459       3\n",
      "687  2988190573       3\n",
      "890  3908431265       3\n",
      "138   611059232       3\n",
      "632  2742574263       3\n",
      "157   678354126       2\n",
      "323  1404560065       2\n",
      "452  1985475298       2\n"
     ]
    },
    {
     "data": {
      "image/png": "[encoded data removed]",
      "text/plain": [
       "<Figure size 1080x288 with 1 Axes>"
      ]
     },
     "metadata": {
      "needs_background": "light"
     },
     "output_type": "display_data"
    }
   ],
   "source": [
    "ordersByUsers = (\n",
    "    orders.groupby('visitorId', as_index=False)\n",
    "    .agg({'transactionId': 'nunique'})\n",
    ")\n",
    "ordersByUsers.columns = ['userId', 'orders']\n",
    "\n",
    "print(ordersByUsers.sort_values(by='orders', ascending=False).head(10))\n",
    "\n",
    "# серия из чисел от 0 до количества наблюдений в ordersByUsers\n",
    "x_values = pd.Series(range(0,len(ordersByUsers)))\n",
    "\n",
    "plt.scatter(x_values, ordersByUsers['orders'])\n",
    "\n",
    "plt.xlabel('Пользователи')\n",
    "plt.ylabel('Заказы')\n",
    "plt.title('Количество заказов по пользователям')\n",
    "plt.grid(True);"
   ]
  },
  {
   "cell_type": "markdown",
   "metadata": {},
   "source": [
    "Основная масса пользователей делает 1 заказ. Также много пользователей с 2 заказами, пока неясно, являются ли они аномальными. Пользователей, сделавших более 2 заказов, мало, скорее всего их можно считать аномальными."
   ]
  },
  {
   "cell_type": "markdown",
   "metadata": {},
   "source": [
    "## 3.7. 95-й и 99-й перцентили количества заказов на пользователя"
   ]
  },
  {
   "cell_type": "code",
   "execution_count": 27,
   "metadata": {},
   "outputs": [
    {
     "name": "stdout",
     "output_type": "stream",
     "text": [
      "[1. 2.]\n"
     ]
    }
   ],
   "source": [
    "# Метод np.percentile('column', [percentile1, percentile2, percentile3]) находит перцентили.\n",
    "print(np.percentile(ordersByUsers['orders'], [95, 99]))"
   ]
  },
  {
   "cell_type": "markdown",
   "metadata": {},
   "source": [
    "Не более 5 процентов пользователей делали более 2 заказов, и не более 1 процента пользователей делали более 4 заказов.\n",
    "\n",
    "Выберем 2 заказа на одного пользователя за верхнюю границу для определения аномальных пользователей."
   ]
  },
  {
   "cell_type": "markdown",
   "metadata": {},
   "source": [
    "<div class=\"alert alert-warning\">\n",
    "    \n",
    "  <b>Комментарий ревьюера</b>\n",
    "    \n",
    "  ⚠️ Перцентали выбраны верно. Но скорее всего, после обнаружения пользователей, которые вошли в обе группы (что не совсем верно) границы выбросов изменятся. Еще раз перепроверь свое решение после дополнения части с предобработкой.\n",
    "</div>"
   ]
  },
  {
   "cell_type": "markdown",
   "metadata": {},
   "source": [
    "<div class=\"alert alert-block alert-info\">\n",
    "\n",
    "  <b>Комментарий cтудента</b>\n",
    "\n",
    "  Не более 5 процентов пользователей делали более 1 заказа, и не более 1 процента пользователей делали более 2 заказов.\n",
    "\n",
    "Выберем более 1 заказа на одного пользователя за верхнюю границу для определения аномальных пользователей.\n",
    "\n",
    "</div>\n",
    "<div class=\"alert alert-success\">\n",
    "  \n",
    "  <b>Комментарий ревьюера v.2</b>\n",
    "    \n",
    "  ✔️ Количество заказов сократилось заметно, а вот чек не сильно уменьшился.\n",
    "</div>"
   ]
  },
  {
   "cell_type": "markdown",
   "metadata": {},
   "source": [
    "## 3.8. Точечный график стоимостей заказов"
   ]
  },
  {
   "cell_type": "code",
   "execution_count": 28,
   "metadata": {},
   "outputs": [
    {
     "name": "stdout",
     "output_type": "stream",
     "text": [
      "      transactionId   visitorId       date  revenue group\n",
      "425       590470918  1920142716 2019-08-19  1294500     B\n",
      "1196     3936777065  2108080724 2019-08-15   202740     B\n",
      "1136      666610489  1307669133 2019-08-13    92550     A\n",
      "744      3668308183   888512513 2019-08-27    86620     B\n",
      "743      3603576309  4133034833 2019-08-09    67990     A\n",
      "1103     1348774318  1164614297 2019-08-12    66350     A\n",
      "1099      316924019   148427295 2019-08-12    65710     A\n",
      "949      1347999392   887908475 2019-08-21    60450     A\n",
      "940      2420050534  4003628586 2019-08-08    58550     B\n",
      "131      3163614039  2254586615 2019-08-22    53904     A\n"
     ]
    },
    {
     "data": {
      "image/png": "[encoded data removed]",
      "text/plain": [
       "<Figure size 1080x288 with 1 Axes>"
      ]
     },
     "metadata": {
      "needs_background": "light"
     },
     "output_type": "display_data"
    }
   ],
   "source": [
    "print(orders.sort_values(by='revenue', ascending=False).head(10))\n",
    "\n",
    "x_values = pd.Series(range(0, len(orders['revenue'])))\n",
    "\n",
    "plt.scatter(x_values, orders['revenue']) \n",
    "\n",
    "plt.xlabel('Заказы')\n",
    "plt.ylabel('Стоимость заказов')\n",
    "plt.title('Распределение стоимостей заказов')\n",
    "plt.ylim(0, 200000)\n",
    "plt.grid(True);"
   ]
  },
  {
   "cell_type": "markdown",
   "metadata": {},
   "source": [
    "Большая часть заказов не превышает 25 тысяч рублей. Выделяются два выброса - заказы на сумму 202 740 и 1 294 500  рублей."
   ]
  },
  {
   "cell_type": "markdown",
   "metadata": {},
   "source": [
    "## 3.9. 95-й и 99-й перцентили стоимости заказов"
   ]
  },
  {
   "cell_type": "code",
   "execution_count": 29,
   "metadata": {},
   "outputs": [
    {
     "name": "stdout",
     "output_type": "stream",
     "text": [
      "[26785. 53904.]\n"
     ]
    }
   ],
   "source": [
    "print(np.percentile(orders['revenue'], [95, 99]))"
   ]
  },
  {
   "cell_type": "markdown",
   "metadata": {},
   "source": [
    "Не более 5% заказов дороже 28000 рублей и не более 1% дороже 58233 рублей.\n",
    "\n",
    "Выберем 30000 рублей за верхнюю границу для определения аномальных пользователей."
   ]
  },
  {
   "cell_type": "markdown",
   "metadata": {},
   "source": [
    "<div class=\"alert alert-warning\">\n",
    "    \n",
    "  <b>Комментарий ревьюера</b>\n",
    "    \n",
    "  ⚠️ Здесь тоже границы выбросов должны скорректироваться.\n",
    "</div>"
   ]
  },
  {
   "cell_type": "markdown",
   "metadata": {},
   "source": [
    "<div class=\"alert alert-block alert-info\">\n",
    "\n",
    "  <b>Комментарий cтудента</b>\n",
    "\n",
    "Не более 5% заказов дороже 26785 рублей и не более 1% дороже 53904 рублей.\n",
    "\n",
    "Выберем 30000 рублей за верхнюю границу для определения аномальных пользователей.\n",
    "\n",
    "\n",
    "</div>"
   ]
  },
  {
   "cell_type": "markdown",
   "metadata": {},
   "source": [
    "## 3.10. Статистическая значимость различий в среднем количестве заказов на посетителя между группами по «сырым» данным"
   ]
  },
  {
   "cell_type": "markdown",
   "metadata": {},
   "source": [
    "Сформулируем гипотезы. Нулевая: различий в среднем количестве заказов между группами нет. Альтернативная: различия в среднем между группами есть."
   ]
  },
  {
   "cell_type": "markdown",
   "metadata": {},
   "source": [
    "<div class=\"alert alert-success\">\n",
    "  \n",
    "  <b>Комментарий ревьюера</b>\n",
    "    \n",
    "  ✔️ Нулевая и альтернативная гипотезы сформулированы. \n",
    "\n",
    "Сами гипотезы обычно обозначают так:\n",
    "- H0 - Нет  различий ....\n",
    "- H1 - Есть различия ....\n",
    "    \n",
    "</div>\n",
    "<div class=\"alert alert-warning\">\n",
    "    \n",
    "  <b>Комментарий ревьюера</b>\n",
    "    \n",
    "  ⚠️ Ниже код идет без комментариев. Лучше оставлять небольшой комментарий о том, что делаем в ячейке. Так тебе или твоим коллегам в будущем будет проще разобраться с кодом.\n",
    "</div>"
   ]
  },
  {
   "cell_type": "code",
   "execution_count": 30,
   "metadata": {},
   "outputs": [
    {
     "name": "stdout",
     "output_type": "stream",
     "text": [
      "        date  ordersPerDateA  revenuePerDateA  ordersPerDateB  \\\n",
      "0 2019-08-01              23           142779              17   \n",
      "1 2019-08-02              19            91602              23   \n",
      "2 2019-08-03              24           112473              14   \n",
      "3 2019-08-04              11            41176              14   \n",
      "4 2019-08-05              22            86383              21   \n",
      "\n",
      "   revenuePerDateB  ordersCummulativeA  revenueCummulativeA  \\\n",
      "0            59758                  23               142779   \n",
      "1           162043                  42               234381   \n",
      "2            67049                  66               346854   \n",
      "3            96890                  77               388030   \n",
      "4            89908                  99               474413   \n",
      "\n",
      "   ordersCummulativeB  revenueCummulativeB  visitorsPerDateA  \\\n",
      "0                  17                59758               719   \n",
      "1                  40               221801               619   \n",
      "2                  54               288850               507   \n",
      "3                  68               385740               717   \n",
      "4                  89               475648               756   \n",
      "\n",
      "   visitorsPerDateB  visitorsCummulativeA  visitorsCummulativeB  \n",
      "0               713                   719                   713  \n",
      "1               581                  1338                  1294  \n",
      "2               509                  1845                  1803  \n",
      "3               770                  2562                  2573  \n",
      "4               707                  3318                  3280  \n",
      "\n",
      "p-value:\n",
      "0.01102\n",
      "\n",
      "Относительное различие в среднем между группами:\n",
      "0.160\n"
     ]
    }
   ],
   "source": [
    "visitorsADaily = visitors[visitors['group'] == 'A'][['date', 'visitors']]\n",
    "visitorsADaily.columns = ['date', 'visitorsPerDateA']\n",
    "\n",
    "visitorsACummulative = visitorsADaily.apply(\n",
    "    lambda x: visitorsADaily[visitorsADaily['date'] <= x['date']].agg(\n",
    "        {'date': 'max', 'visitorsPerDateA': 'sum'}\n",
    "    ),\n",
    "    axis=1,\n",
    ")\n",
    "visitorsACummulative.columns = ['date', 'visitorsCummulativeA']\n",
    "\n",
    "visitorsBDaily = visitors[visitors['group'] == 'B'][['date', 'visitors']]\n",
    "visitorsBDaily.columns = ['date', 'visitorsPerDateB']\n",
    "\n",
    "visitorsBCummulative = visitorsBDaily.apply(\n",
    "    lambda x: visitorsBDaily[visitorsBDaily['date'] <= x['date']].agg(\n",
    "        {'date': 'max', 'visitorsPerDateB': 'sum'}\n",
    "    ),\n",
    "    axis=1,\n",
    ")\n",
    "visitorsBCummulative.columns = ['date', 'visitorsCummulativeB']\n",
    "\n",
    "ordersADaily = (\n",
    "    orders[orders['group'] == 'A'][['date', 'transactionId', 'visitorId', 'revenue']]\n",
    "    .groupby('date', as_index=False)\n",
    "    .agg({'transactionId': pd.Series.nunique, 'revenue': 'sum'})\n",
    ")\n",
    "ordersADaily.columns = ['date', 'ordersPerDateA', 'revenuePerDateA']\n",
    "\n",
    "ordersACummulative = ordersADaily.apply(\n",
    "    lambda x: ordersADaily[ordersADaily['date'] <= x['date']].agg(\n",
    "        {'date': 'max', 'ordersPerDateA': 'sum', 'revenuePerDateA': 'sum'}\n",
    "    ),\n",
    "    axis=1,\n",
    ").sort_values(by=['date'])\n",
    "ordersACummulative.columns = [\n",
    "    'date',\n",
    "    'ordersCummulativeA',\n",
    "    'revenueCummulativeA',\n",
    "]\n",
    "\n",
    "ordersBDaily = (\n",
    "    orders[orders['group'] == 'B'][['date', 'transactionId', 'visitorId', 'revenue']]\n",
    "    .groupby('date', as_index=False)\n",
    "    .agg({'transactionId': pd.Series.nunique, 'revenue': 'sum'})\n",
    ")\n",
    "ordersBDaily.columns = ['date', 'ordersPerDateB', 'revenuePerDateB']\n",
    "\n",
    "ordersBCummulative = ordersBDaily.apply(\n",
    "    lambda x: ordersBDaily[ordersBDaily['date'] <= x['date']].agg(\n",
    "        {'date': 'max', 'ordersPerDateB': 'sum', 'revenuePerDateB': 'sum'}\n",
    "    ),\n",
    "    axis=1,\n",
    ").sort_values(by=['date'])\n",
    "ordersBCummulative.columns = [\n",
    "    'date',\n",
    "    'ordersCummulativeB',\n",
    "    'revenueCummulativeB',\n",
    "]\n",
    "\n",
    "data = (\n",
    "    ordersADaily.merge(\n",
    "        ordersBDaily, left_on='date', right_on='date', how='left'\n",
    "    )\n",
    "    .merge(ordersACummulative, left_on='date', right_on='date', how='left')\n",
    "    .merge(ordersBCummulative, left_on='date', right_on='date', how='left')\n",
    "    .merge(visitorsADaily, left_on='date', right_on='date', how='left')\n",
    "    .merge(visitorsBDaily, left_on='date', right_on='date', how='left')\n",
    "    .merge(visitorsACummulative, left_on='date', right_on='date', how='left')\n",
    "    .merge(visitorsBCummulative, left_on='date', right_on='date', how='left')\n",
    ")\n",
    "\n",
    "print(data.head(5))\n",
    "\n",
    "ordersByUsersA = (\n",
    "    orders[orders['group'] == 'A']\n",
    "    .groupby('visitorId', as_index=False)\n",
    "    .agg({'transactionId': pd.Series.nunique})\n",
    ")\n",
    "ordersByUsersA.columns = ['userId', 'orders']\n",
    "\n",
    "ordersByUsersB = (\n",
    "    orders[orders['group'] == 'B']\n",
    "    .groupby('visitorId', as_index=False)\n",
    "    .agg({'transactionId': pd.Series.nunique})\n",
    ")\n",
    "ordersByUsersB.columns = ['userId', 'orders']\n",
    "\n",
    "sampleA = pd.concat([ordersByUsersA['orders'],pd.Series(0, index=np.arange(data['visitorsPerDateA'].sum() - len(ordersByUsersA['orders'])), name='orders')],axis=0)\n",
    "\n",
    "sampleB = pd.concat([ordersByUsersB['orders'],pd.Series(0, index=np.arange(data['visitorsPerDateB'].sum() - len(ordersByUsersB['orders'])), name='orders')],axis=0)\n",
    "\n",
    "ordersByUsersA = (\n",
    "    orders[orders['group'] == 'A']\n",
    "    .groupby('visitorId', as_index=False)\n",
    "    .agg({'transactionId': pd.Series.nunique})\n",
    ")\n",
    "ordersByUsersA.columns = ['userId', 'orders']\n",
    "\n",
    "ordersByUsersB = (\n",
    "    orders[orders['group'] == 'B']\n",
    "    .groupby('visitorId', as_index=False)\n",
    "    .agg({'transactionId': pd.Series.nunique})\n",
    ")\n",
    "ordersByUsersB.columns = ['userId', 'orders']\n",
    "\n",
    "sampleA = pd.concat(\n",
    "    [\n",
    "        ordersByUsersA['orders'],\n",
    "        pd.Series(\n",
    "            0,\n",
    "            index=np.arange(\n",
    "                data['visitorsPerDateA'].sum() - len(ordersByUsersA['orders'])\n",
    "            ),\n",
    "            name='orders',\n",
    "        ),\n",
    "    ],\n",
    "    axis=0,\n",
    ")\n",
    "\n",
    "sampleB = pd.concat(\n",
    "    [\n",
    "        ordersByUsersB['orders'],\n",
    "        pd.Series(\n",
    "            0,\n",
    "            index=np.arange(\n",
    "                data['visitorsPerDateB'].sum() - len(ordersByUsersB['orders'])\n",
    "            ),\n",
    "            name='orders',\n",
    "        ),\n",
    "    ],\n",
    "    axis=0,\n",
    ")\n",
    "print('\\np-value:')\n",
    "print(\"{0:.5f}\".format(stats.mannwhitneyu(sampleA, sampleB)[1]))\n",
    "print('\\nОтносительное различие в среднем между группами:')\n",
    "print(\"{0:.3f}\".format(sampleB.mean() / sampleA.mean() - 1))"
   ]
  },
  {
   "cell_type": "markdown",
   "metadata": {},
   "source": [
    "<div class=\"alert alert-warning\">\n",
    "    \n",
    "  <b>Комментарий ревьюера</b>\n",
    "    \n",
    "  ⚠️ Старайся не выводить датафрейм через print, так визуально тяжело воспринимать. Используй или просто data.head(5) или вывод через display().\n",
    "    \n",
    "  ⚠️ Подготовку данных и стат. тест лучше разнести по отдельнум ячейкам.\n",
    "</div>"
   ]
  },
  {
   "cell_type": "markdown",
   "metadata": {},
   "source": [
    "По «сырым» данным в среднем числе заказов групп A и B есть различия. \n",
    "Первое число — p-value = 0.01679 меньше 0.05. Значит, нулевую гипотезу о том, что статистически значимых различий в среднем числе заказов между группами нет, отвергаем. Относительный прирост среднего группы B относительно группы А равен 13.8 % процентов."
   ]
  },
  {
   "cell_type": "markdown",
   "metadata": {},
   "source": [
    "<div class=\"alert alert-success\">\n",
    "  \n",
    "  <b>Комментарий ревьюера</b>\n",
    "    \n",
    "  ✔️ Верно выбран сам тест и верно проинтерпретированы  его результаты! \n",
    "\n",
    "</div>"
   ]
  },
  {
   "cell_type": "markdown",
   "metadata": {},
   "source": [
    "## 3.11. Статистическая значимость различий в среднем чеке заказа между группами по «сырым» данным"
   ]
  },
  {
   "cell_type": "markdown",
   "metadata": {},
   "source": [
    "Нулевая гипотеза: различий в среднем чеке между группами нет. Альтернативная гипотеза: различия в среднем чеке между группами есть. "
   ]
  },
  {
   "cell_type": "code",
   "execution_count": 31,
   "metadata": {},
   "outputs": [
    {
     "name": "stdout",
     "output_type": "stream",
     "text": [
      "\n",
      "p-value:\n",
      "0.829\n",
      "\n",
      "Относительное различие в среднем между группами:\n",
      "0.287\n"
     ]
    }
   ],
   "source": [
    "print('\\np-value:')\n",
    "print('{0:.3f}'.format(stats.mannwhitneyu(orders[orders['group']=='A']['revenue'], orders[orders['group']=='B']['revenue'])[1]))\n",
    "print('\\nОтносительное различие в среднем между группами:')\n",
    "print('{0:.3f}'.format(orders[orders['group']=='B']['revenue'].mean()/orders[orders['group']=='A']['revenue'].mean()-1))"
   ]
  },
  {
   "cell_type": "markdown",
   "metadata": {},
   "source": [
    "P-value значительно больше 0.05. Значит, причин отвергать нулевую гипотезу и считать, что в среднем чеке есть различия, нет. При этом средний чек группы B выше среднего чека группы A на 25.9%."
   ]
  },
  {
   "cell_type": "markdown",
   "metadata": {},
   "source": [
    "<div class=\"alert alert-danger\">\n",
    "    \n",
    "  <b>Комментарий ревьюера</b>\n",
    "    \n",
    "  ❌ С одной стороны не отвергаем нулевую гипотезу, но потом говорим, что \"При этом средний чек группы B выше среднего чека группы A на 25.9%.\". Выводы немного противоречат друг другу. Тут лучше изменить интерпретацию: наблюдаемое различие в 25.9% не является стат. значимым... и .т.д.\n",
    "\n",
    "</div> "
   ]
  },
  {
   "cell_type": "markdown",
   "metadata": {},
   "source": [
    "<div class=\"alert alert-block alert-info\">\n",
    "\n",
    "  <b>Комментарий cтудента</b>\n",
    "\n",
    "P-value значительно больше 0.05. Значит, причин отвергать нулевую гипотезу и считать, что в среднем чеке есть различия, нет. \n",
    "    \n",
    "При этом средний чек группы B выше среднего чека группы A на 25.9%. Но наблюдаемое различие не является статистически значимым. Вероятно, оно является следствием выбросов, связанных с появлением аномально дорогих заказов.\n",
    "\n",
    "</div>\n",
    "<div class=\"alert alert-success\">\n",
    "  \n",
    "  <b>Комментарий ревьюера v.2</b>\n",
    "    \n",
    "  ✔️ Так вывод звучит корректней. \n",
    "    \n",
    "Тут все просто. Раз теcт показал, что нет стат значимой разницы между группами - то каково бы различие чека не было, оно не будет являться стат. значимым (у нас тут выбросы дают большое различие чеков, но их всего несколько и на общее различие среднего чека по группам они не влияют)\n",
    "</div>"
   ]
  },
  {
   "cell_type": "markdown",
   "metadata": {},
   "source": [
    "## 3.12. Статистическая значимость различий в среднем количестве заказов на посетителя между группами по «очищенным» данным"
   ]
  },
  {
   "cell_type": "markdown",
   "metadata": {},
   "source": [
    "Примем за аномальных пользователей тех, кто совершил более 1 заказа или совершил заказ дороже 30 000 рублей. Так мы уберём 5% пользователей с наибольшим числом заказов и от 1% до 5% пользователей с дорогими заказами."
   ]
  },
  {
   "cell_type": "code",
   "execution_count": 32,
   "metadata": {},
   "outputs": [
    {
     "name": "stdout",
     "output_type": "stream",
     "text": [
      "1099    148427295\n",
      "928     204675465\n",
      "33      249864742\n",
      "684     358944393\n",
      "36      366673373\n",
      "dtype: int64\n",
      "77\n"
     ]
    }
   ],
   "source": [
    "usersWithManyOrders = pd.concat(\n",
    "    [\n",
    "        ordersByUsersA[ordersByUsersA['orders'] > 1]['userId'],\n",
    "        ordersByUsersB[ordersByUsersB['orders'] > 1]['userId'],\n",
    "    ],\n",
    "    axis=0,\n",
    ")\n",
    "usersWithExpensiveOrders = orders[orders['revenue'] > 30000]['visitorId']\n",
    "abnormalUsers = (\n",
    "    pd.concat([usersWithManyOrders, usersWithExpensiveOrders], axis=0)\n",
    "    .drop_duplicates()\n",
    "    .sort_values()\n",
    ")\n",
    "print(abnormalUsers.head(5))\n",
    "print(abnormalUsers.shape[0])"
   ]
  },
  {
   "cell_type": "markdown",
   "metadata": {},
   "source": [
    "<div class=\"alert alert-warning\">\n",
    "    \n",
    "  <b>Комментарий ревьюера</b>\n",
    "    \n",
    "  ⚠️ Тут можно или непосредственно вычисления по 95 / 99 перцентилю, например:\n",
    "```python \n",
    "revenue_lim = np.percentile(orders['revenue'], 95)`\n",
    "```\n",
    "или задавать в качестве отдельной переменой:\n",
    "\n",
    "```python \n",
    "revenue_lim = 100000\n",
    "usersWithExpensiveOrders = orders[orders['revenue'] > revenue_lim]['visitorId']`\n",
    "```\n",
    "\n",
    "</div>"
   ]
  },
  {
   "cell_type": "markdown",
   "metadata": {},
   "source": [
    "Всего 77 аномальных пользователей."
   ]
  },
  {
   "cell_type": "code",
   "execution_count": 33,
   "metadata": {},
   "outputs": [
    {
     "name": "stdout",
     "output_type": "stream",
     "text": [
      "\n",
      "p-value:\n",
      "0.01255\n",
      "\n",
      "Относительное различие в среднем между группами:\n",
      "0.180\n"
     ]
    }
   ],
   "source": [
    "sampleAFiltered = pd.concat(\n",
    "    [\n",
    "        ordersByUsersA[\n",
    "            np.logical_not(ordersByUsersA['userId'].isin(abnormalUsers))\n",
    "        ]['orders'],\n",
    "        pd.Series(\n",
    "            0,\n",
    "            index=np.arange(\n",
    "                data['visitorsPerDateA'].sum() - len(ordersByUsersA['orders'])\n",
    "            ),\n",
    "            name='orders',\n",
    "        ),\n",
    "    ],\n",
    "    axis=0,\n",
    ")\n",
    "\n",
    "sampleBFiltered = pd.concat(\n",
    "    [\n",
    "        ordersByUsersB[\n",
    "            np.logical_not(ordersByUsersB['userId'].isin(abnormalUsers))\n",
    "        ]['orders'],\n",
    "        pd.Series(\n",
    "            0,\n",
    "            index=np.arange(\n",
    "                data['visitorsPerDateB'].sum() - len(ordersByUsersB['orders'])\n",
    "            ),\n",
    "            name='orders',\n",
    "        ),\n",
    "    ],\n",
    "    axis=0,\n",
    ")\n",
    "print('\\np-value:')\n",
    "print('{0:.5f}'.format(stats.mannwhitneyu(sampleAFiltered, sampleBFiltered)[1]))\n",
    "print('\\nОтносительное различие в среднем между группами:')\n",
    "print('{0:.3f}'.format(sampleBFiltered.mean()/sampleAFiltered.mean()-1))"
   ]
  },
  {
   "cell_type": "markdown",
   "metadata": {},
   "source": [
    "По \"очищенным\" данным в среднем числе заказов групп A и B есть различия. Первое число — p-value = 0.01255 меньше 0.05. Значит, нулевую гипотезу о том, что статистически значимых различий в среднем числе заказов между группами нет, отвергаем. Относительный прирост среднего группы B относительно группы А равен 18 % процентов.\n",
    "\n",
    "Как и по \"сырым\" данным сегмент B по среднему количеству заказов лучше сегмента А."
   ]
  },
  {
   "cell_type": "markdown",
   "metadata": {},
   "source": [
    "<div class=\"alert alert-success\">\n",
    "  \n",
    "  <b>Комментарий ревьюера</b>\n",
    "    \n",
    "  ✔️ И тут отвергаем нулевую гипотезу.\n",
    "</div>"
   ]
  },
  {
   "cell_type": "markdown",
   "metadata": {},
   "source": [
    "## 3.13. Cтатистическая значимость различий в среднем чеке заказа между группами по «очищенным» данным"
   ]
  },
  {
   "cell_type": "code",
   "execution_count": 34,
   "metadata": {},
   "outputs": [
    {
     "name": "stdout",
     "output_type": "stream",
     "text": [
      "\n",
      "p-value:\n",
      "0.829\n",
      "\n",
      "Относительное различие в среднем между группами:\n",
      "-0.011\n"
     ]
    }
   ],
   "source": [
    "print('\\np-value:')\n",
    "print(\n",
    "    '{0:.3f}'.format(\n",
    "        stats.mannwhitneyu(\n",
    "            orders[\n",
    "                np.logical_and(\n",
    "                    orders['group'] == 'A',\n",
    "                    np.logical_not(orders['visitorId'].isin(abnormalUsers)),\n",
    "                )\n",
    "            ]['revenue'],\n",
    "            orders[\n",
    "                np.logical_and(\n",
    "                    orders['group'] == 'B',\n",
    "                    np.logical_not(orders['visitorId'].isin(abnormalUsers)),\n",
    "                )\n",
    "            ]['revenue'],\n",
    "        )[1]\n",
    "    )\n",
    ")\n",
    "print('\\nОтносительное различие в среднем между группами:')\n",
    "print(\n",
    "    \"{0:.3f}\".format(\n",
    "        orders[\n",
    "            np.logical_and(\n",
    "                orders['group'] == 'B',\n",
    "                np.logical_not(orders['visitorId'].isin(abnormalUsers)),\n",
    "            )\n",
    "        ]['revenue'].mean()\n",
    "        / orders[\n",
    "            np.logical_and(\n",
    "                orders['group'] == 'A',\n",
    "                np.logical_not(orders['visitorId'].isin(abnormalUsers)),\n",
    "            )\n",
    "        ]['revenue'].mean()\n",
    "        - 1\n",
    "    )\n",
    ")"
   ]
  },
  {
   "cell_type": "markdown",
   "metadata": {},
   "source": [
    "P-Value не изменился, причин отвергать нулевую гипотезу и считать, что в среднем чеке есть различия, нет. При этом лучший результат на \"очищенных\" данных показала группа А, но разница незначительна - всего 2.3 процента."
   ]
  },
  {
   "cell_type": "markdown",
   "metadata": {},
   "source": [
    "<div class=\"alert alert-danger\">\n",
    "    \n",
    "  <b>Комментарий ревьюера</b>\n",
    "    \n",
    "  ❌ Согласен, только обрати, пожалуйста, внимание на выводы: в начале мы можем говорить о наблюдаемых различиях, а потом сказать - являются ли они стат. значимыми или нет.\n",
    "\n",
    "</div>\n"
   ]
  },
  {
   "cell_type": "markdown",
   "metadata": {},
   "source": [
    "<div class=\"alert alert-block alert-info\">\n",
    "\n",
    "  <b>Комментарий cтудента</b>\n",
    "\n",
    "Лучший результат на \"очищенных\" данных показала группа А, но разница незначительна - всего 2.3 процента. Однако данное различие не является статистически значимым, так как P-Value значительно больше 0.05. P-Value не изменился после фильтрации данных, причин отвергать нулевую гипотезу и считать, что в среднем чеке есть различия, нет.\n",
    "\n",
    "</div>\n",
    "<div class=\"alert alert-success\">\n",
    "  \n",
    "  <b>Комментарий ревьюера v.2</b>\n",
    "    \n",
    "  ✔️ Верно.\n",
    "</div>"
   ]
  },
  {
   "cell_type": "markdown",
   "metadata": {},
   "source": [
    "## 3.14. Выводы по результатам теста"
   ]
  },
  {
   "cell_type": "markdown",
   "metadata": {},
   "source": [
    "Как по \"сырым\", так и по \"очищенным\" данным группа B показывает лучший результат по среднему количеству заказов, чем группа А.\n",
    "\n",
    "Нет статистически значимого различия по среднему чеку между группами ни по «сырым», ни по данным после фильтрации аномалий. При этом на \"очищенных\" данных лучший результат по относительному приросту показала группа А, но разница незначительна - 2.3%.\n",
    "\n",
    "По графику изменения кумулятивного среднего количества заказов группа B стабильно показывает лучший результат, чем группа А.\n",
    "\n",
    "По графику изменения кумулятивного среднего чека группы B к группе A нельзя сделать однозначных выводов.\n",
    "\n",
    "Тест можно остановить и зафиксировать победу группы B. Как показали результаты, конверсия по количеству заказов у группы В выше, чем у группы А. Средний чек на \"очищенных\" данных в группе B немного хуже, чем в группе А, но эта разница не является статистически значимой."
   ]
  },
  {
   "cell_type": "markdown",
   "metadata": {},
   "source": [
    "<div class=\"alert alert-success\">\n",
    "  \n",
    "  <b>Комментарий ревьюера</b>\n",
    "    \n",
    "  ✔️ Тест окрасился только на половину - по количеству заказов. Но это тоже хорошо, т.к. стат.значимой разницы по среднему чеку нет (чек не увеличился, но и не уменьшился) то при возросшем количестве заказов с сохранившимся средним чеком выручка будет так-же расти. И значит мы заканчиваем анализ A/B-теста - он оказался успешным! \n",
    "\n",
    "</div>"
   ]
  },
  {
   "cell_type": "markdown",
   "metadata": {},
   "source": [
    "<div style=\"border:solid black 2px; padding: 20px\">\n",
    "  \n",
    "    \n",
    "  <b>Чек-лист доработок</b>\n",
    "    \n",
    " \n",
    "  📃 Проверить корректность разбиения пользователей на группы.\n",
    "\n",
    "  📃 Дооформить графики.\n",
    "    \n",
    "  📃 Пересмотреть выбросы по количеству и стоимости заказов.\n",
    "    \n",
    "  📃 Проверить выводы теста среднего чека по сырым и очищенным данным.\n",
    "    \n",
    "\n",
    "      \n",
    "Жду твой проект на повторное ревью. Не стесняйся оставлять комментарии и задавать вопросы. Удачи! Все получится.\n",
    "</div>"
   ]
  }
 ],
 "metadata": {
  "ExecuteTimeLog": [
   {
    "duration": 780,
    "start_time": "2024-09-19T20:58:39.992Z"
   },
   {
    "duration": 83,
    "start_time": "2024-09-19T20:59:39.595Z"
   },
   {
    "duration": 32,
    "start_time": "2024-09-19T21:00:56.665Z"
   },
   {
    "duration": 32,
    "start_time": "2024-09-19T21:01:07.703Z"
   },
   {
    "duration": 12,
    "start_time": "2024-09-19T21:01:19.427Z"
   },
   {
    "duration": 1090,
    "start_time": "2024-09-19T21:14:17.631Z"
   },
   {
    "duration": 10,
    "start_time": "2024-09-19T21:15:14.788Z"
   },
   {
    "duration": 4,
    "start_time": "2024-09-19T21:15:27.710Z"
   },
   {
    "duration": 6,
    "start_time": "2024-09-19T21:15:34.578Z"
   },
   {
    "duration": 9,
    "start_time": "2024-09-19T21:15:49.031Z"
   },
   {
    "duration": 11,
    "start_time": "2024-09-19T21:16:37.636Z"
   },
   {
    "duration": 670,
    "start_time": "2024-09-19T21:17:18.732Z"
   },
   {
    "duration": 38,
    "start_time": "2024-09-19T21:17:19.404Z"
   },
   {
    "duration": 27,
    "start_time": "2024-09-19T21:17:19.444Z"
   },
   {
    "duration": 11,
    "start_time": "2024-09-19T21:17:19.473Z"
   },
   {
    "duration": 14,
    "start_time": "2024-09-19T21:17:19.485Z"
   },
   {
    "duration": 10,
    "start_time": "2024-09-19T21:17:19.500Z"
   },
   {
    "duration": 9,
    "start_time": "2024-09-19T21:24:13.958Z"
   },
   {
    "duration": 14,
    "start_time": "2024-09-19T21:24:24.237Z"
   },
   {
    "duration": 14,
    "start_time": "2024-09-19T21:25:36.188Z"
   },
   {
    "duration": 11,
    "start_time": "2024-09-19T21:25:44.558Z"
   },
   {
    "duration": 11,
    "start_time": "2024-09-19T21:25:50.578Z"
   },
   {
    "duration": 631,
    "start_time": "2024-09-19T21:26:19.523Z"
   },
   {
    "duration": 36,
    "start_time": "2024-09-19T21:26:20.156Z"
   },
   {
    "duration": 4,
    "start_time": "2024-09-19T21:26:20.194Z"
   },
   {
    "duration": 26,
    "start_time": "2024-09-19T21:26:20.199Z"
   },
   {
    "duration": 12,
    "start_time": "2024-09-19T21:26:20.227Z"
   },
   {
    "duration": 10,
    "start_time": "2024-09-19T21:26:20.241Z"
   },
   {
    "duration": 3,
    "start_time": "2024-09-19T21:27:03.010Z"
   },
   {
    "duration": 33,
    "start_time": "2024-09-19T21:27:03.598Z"
   },
   {
    "duration": 638,
    "start_time": "2024-09-19T21:27:12.174Z"
   },
   {
    "duration": 36,
    "start_time": "2024-09-19T21:27:12.814Z"
   },
   {
    "duration": 5,
    "start_time": "2024-09-19T21:27:12.851Z"
   },
   {
    "duration": 15,
    "start_time": "2024-09-19T21:27:12.858Z"
   },
   {
    "duration": 22,
    "start_time": "2024-09-19T21:27:12.875Z"
   },
   {
    "duration": 10,
    "start_time": "2024-09-19T21:27:12.899Z"
   },
   {
    "duration": 638,
    "start_time": "2024-09-19T21:37:53.922Z"
   },
   {
    "duration": 198,
    "start_time": "2024-09-19T21:37:54.562Z"
   },
   {
    "duration": 4,
    "start_time": "2024-09-19T21:37:54.763Z"
   },
   {
    "duration": 11,
    "start_time": "2024-09-19T21:37:54.769Z"
   },
   {
    "duration": 21,
    "start_time": "2024-09-19T21:37:54.781Z"
   },
   {
    "duration": 11,
    "start_time": "2024-09-19T21:37:54.804Z"
   },
   {
    "duration": 12,
    "start_time": "2024-09-19T21:38:09.320Z"
   },
   {
    "duration": 8,
    "start_time": "2024-09-19T21:38:21.981Z"
   },
   {
    "duration": 14,
    "start_time": "2024-09-19T21:38:33.553Z"
   },
   {
    "duration": 85,
    "start_time": "2024-09-19T21:39:11.390Z"
   },
   {
    "duration": 688,
    "start_time": "2024-09-19T21:39:32.531Z"
   },
   {
    "duration": 90,
    "start_time": "2024-09-19T21:39:33.222Z"
   },
   {
    "duration": 4,
    "start_time": "2024-09-19T21:39:33.314Z"
   },
   {
    "duration": 13,
    "start_time": "2024-09-19T21:39:33.320Z"
   },
   {
    "duration": 28,
    "start_time": "2024-09-19T21:39:33.335Z"
   },
   {
    "duration": 11,
    "start_time": "2024-09-19T21:39:33.364Z"
   },
   {
    "duration": 14,
    "start_time": "2024-09-19T21:39:33.376Z"
   },
   {
    "duration": 50,
    "start_time": "2024-09-19T21:39:33.391Z"
   },
   {
    "duration": 7,
    "start_time": "2024-09-19T21:42:24.704Z"
   },
   {
    "duration": 7,
    "start_time": "2024-09-19T21:42:48.556Z"
   },
   {
    "duration": 8,
    "start_time": "2024-09-19T21:43:02.996Z"
   },
   {
    "duration": 9,
    "start_time": "2024-09-19T21:43:25.524Z"
   },
   {
    "duration": 8,
    "start_time": "2024-09-19T21:44:11.084Z"
   },
   {
    "duration": 8,
    "start_time": "2024-09-19T21:44:39.602Z"
   },
   {
    "duration": 9,
    "start_time": "2024-09-19T21:44:57.876Z"
   },
   {
    "duration": 10,
    "start_time": "2024-09-19T21:45:13.125Z"
   },
   {
    "duration": 652,
    "start_time": "2024-09-19T21:45:43.432Z"
   },
   {
    "duration": 91,
    "start_time": "2024-09-19T21:45:44.086Z"
   },
   {
    "duration": 6,
    "start_time": "2024-09-19T21:45:44.186Z"
   },
   {
    "duration": 14,
    "start_time": "2024-09-19T21:45:44.195Z"
   },
   {
    "duration": 16,
    "start_time": "2024-09-19T21:45:44.211Z"
   },
   {
    "duration": 15,
    "start_time": "2024-09-19T21:45:44.228Z"
   },
   {
    "duration": 17,
    "start_time": "2024-09-19T21:45:44.244Z"
   },
   {
    "duration": 6,
    "start_time": "2024-09-19T21:45:44.262Z"
   },
   {
    "duration": 11,
    "start_time": "2024-09-19T21:45:44.270Z"
   },
   {
    "duration": 8,
    "start_time": "2024-09-19T21:45:44.283Z"
   },
   {
    "duration": 13,
    "start_time": "2024-09-19T21:45:44.292Z"
   },
   {
    "duration": 27,
    "start_time": "2024-09-19T21:45:44.307Z"
   },
   {
    "duration": 22,
    "start_time": "2024-09-19T21:45:44.336Z"
   },
   {
    "duration": 11,
    "start_time": "2024-09-19T21:45:44.360Z"
   },
   {
    "duration": 619,
    "start_time": "2024-09-19T21:49:56.893Z"
   },
   {
    "duration": 91,
    "start_time": "2024-09-19T21:49:57.514Z"
   },
   {
    "duration": 4,
    "start_time": "2024-09-19T21:49:57.607Z"
   },
   {
    "duration": 11,
    "start_time": "2024-09-19T21:49:57.613Z"
   },
   {
    "duration": 8,
    "start_time": "2024-09-19T21:49:57.625Z"
   },
   {
    "duration": 11,
    "start_time": "2024-09-19T21:49:57.635Z"
   },
   {
    "duration": 18,
    "start_time": "2024-09-19T21:49:57.647Z"
   },
   {
    "duration": 7,
    "start_time": "2024-09-19T21:49:57.666Z"
   },
   {
    "duration": 26,
    "start_time": "2024-09-19T21:49:57.674Z"
   },
   {
    "duration": 8,
    "start_time": "2024-09-19T21:49:57.702Z"
   },
   {
    "duration": 17,
    "start_time": "2024-09-19T21:49:57.712Z"
   },
   {
    "duration": 22,
    "start_time": "2024-09-19T21:49:57.731Z"
   },
   {
    "duration": 27,
    "start_time": "2024-09-19T21:49:57.755Z"
   },
   {
    "duration": 20,
    "start_time": "2024-09-19T21:49:57.784Z"
   },
   {
    "duration": 364,
    "start_time": "2024-09-19T21:51:52.190Z"
   },
   {
    "duration": 616,
    "start_time": "2024-09-19T21:52:27.315Z"
   },
   {
    "duration": 88,
    "start_time": "2024-09-19T21:52:27.933Z"
   },
   {
    "duration": 5,
    "start_time": "2024-09-19T21:52:28.022Z"
   },
   {
    "duration": 19,
    "start_time": "2024-09-19T21:52:28.029Z"
   },
   {
    "duration": 13,
    "start_time": "2024-09-19T21:52:28.050Z"
   },
   {
    "duration": 10,
    "start_time": "2024-09-19T21:52:28.065Z"
   },
   {
    "duration": 8,
    "start_time": "2024-09-19T21:52:28.076Z"
   },
   {
    "duration": 8,
    "start_time": "2024-09-19T21:52:28.086Z"
   },
   {
    "duration": 12,
    "start_time": "2024-09-19T21:52:28.096Z"
   },
   {
    "duration": 7,
    "start_time": "2024-09-19T21:52:28.111Z"
   },
   {
    "duration": 40,
    "start_time": "2024-09-19T21:52:28.120Z"
   },
   {
    "duration": 12,
    "start_time": "2024-09-19T21:52:28.162Z"
   },
   {
    "duration": 19,
    "start_time": "2024-09-19T21:52:28.176Z"
   },
   {
    "duration": 11,
    "start_time": "2024-09-19T21:52:28.196Z"
   },
   {
    "duration": 392,
    "start_time": "2024-09-19T21:52:28.208Z"
   },
   {
    "duration": 661,
    "start_time": "2024-09-19T21:53:03.571Z"
   },
   {
    "duration": 89,
    "start_time": "2024-09-19T21:53:04.234Z"
   },
   {
    "duration": 5,
    "start_time": "2024-09-19T21:53:04.325Z"
   },
   {
    "duration": 11,
    "start_time": "2024-09-19T21:53:04.332Z"
   },
   {
    "duration": 9,
    "start_time": "2024-09-19T21:53:04.344Z"
   },
   {
    "duration": 22,
    "start_time": "2024-09-19T21:53:04.355Z"
   },
   {
    "duration": 26,
    "start_time": "2024-09-19T21:53:04.378Z"
   },
   {
    "duration": 20,
    "start_time": "2024-09-19T21:53:04.405Z"
   },
   {
    "duration": 14,
    "start_time": "2024-09-19T21:53:04.427Z"
   },
   {
    "duration": 25,
    "start_time": "2024-09-19T21:53:04.443Z"
   },
   {
    "duration": 35,
    "start_time": "2024-09-19T21:53:04.469Z"
   },
   {
    "duration": 32,
    "start_time": "2024-09-19T21:53:04.506Z"
   },
   {
    "duration": 16,
    "start_time": "2024-09-19T21:53:04.539Z"
   },
   {
    "duration": 10,
    "start_time": "2024-09-19T21:53:04.557Z"
   },
   {
    "duration": 95,
    "start_time": "2024-09-19T21:53:04.569Z"
   },
   {
    "duration": 666,
    "start_time": "2024-09-19T21:54:10.025Z"
   },
   {
    "duration": 89,
    "start_time": "2024-09-19T21:54:10.693Z"
   },
   {
    "duration": 4,
    "start_time": "2024-09-19T21:54:10.784Z"
   },
   {
    "duration": 24,
    "start_time": "2024-09-19T21:54:10.789Z"
   },
   {
    "duration": 10,
    "start_time": "2024-09-19T21:54:10.815Z"
   },
   {
    "duration": 9,
    "start_time": "2024-09-19T21:54:10.826Z"
   },
   {
    "duration": 7,
    "start_time": "2024-09-19T21:54:10.836Z"
   },
   {
    "duration": 5,
    "start_time": "2024-09-19T21:54:10.845Z"
   },
   {
    "duration": 16,
    "start_time": "2024-09-19T21:54:10.852Z"
   },
   {
    "duration": 7,
    "start_time": "2024-09-19T21:54:10.870Z"
   },
   {
    "duration": 11,
    "start_time": "2024-09-19T21:54:10.878Z"
   },
   {
    "duration": 34,
    "start_time": "2024-09-19T21:54:10.891Z"
   },
   {
    "duration": 17,
    "start_time": "2024-09-19T21:54:10.926Z"
   },
   {
    "duration": 12,
    "start_time": "2024-09-19T21:54:10.946Z"
   },
   {
    "duration": 543,
    "start_time": "2024-09-19T21:54:10.960Z"
   },
   {
    "duration": 516,
    "start_time": "2024-09-19T21:55:20.376Z"
   },
   {
    "duration": 439,
    "start_time": "2024-09-19T21:56:19.088Z"
   },
   {
    "duration": 521,
    "start_time": "2024-09-19T21:56:26.804Z"
   },
   {
    "duration": 430,
    "start_time": "2024-09-19T21:56:46.316Z"
   },
   {
    "duration": 441,
    "start_time": "2024-09-19T21:56:56.116Z"
   },
   {
    "duration": 454,
    "start_time": "2024-09-19T21:57:18.128Z"
   },
   {
    "duration": 456,
    "start_time": "2024-09-19T21:57:27.375Z"
   },
   {
    "duration": 764,
    "start_time": "2024-09-20T17:19:37.799Z"
   },
   {
    "duration": 248,
    "start_time": "2024-09-20T17:19:38.565Z"
   },
   {
    "duration": 4,
    "start_time": "2024-09-20T17:19:38.814Z"
   },
   {
    "duration": 39,
    "start_time": "2024-09-20T17:19:38.820Z"
   },
   {
    "duration": 27,
    "start_time": "2024-09-20T17:19:38.861Z"
   },
   {
    "duration": 12,
    "start_time": "2024-09-20T17:19:38.890Z"
   },
   {
    "duration": 18,
    "start_time": "2024-09-20T17:19:38.903Z"
   },
   {
    "duration": 37,
    "start_time": "2024-09-20T17:19:38.922Z"
   },
   {
    "duration": 22,
    "start_time": "2024-09-20T17:19:38.961Z"
   },
   {
    "duration": 18,
    "start_time": "2024-09-20T17:19:38.985Z"
   },
   {
    "duration": 14,
    "start_time": "2024-09-20T17:19:39.004Z"
   },
   {
    "duration": 11,
    "start_time": "2024-09-20T17:19:39.020Z"
   },
   {
    "duration": 12,
    "start_time": "2024-09-20T17:19:39.032Z"
   },
   {
    "duration": 18,
    "start_time": "2024-09-20T17:19:39.045Z"
   },
   {
    "duration": 522,
    "start_time": "2024-09-20T17:19:39.065Z"
   },
   {
    "duration": 448,
    "start_time": "2024-09-20T17:19:55.246Z"
   },
   {
    "duration": 245,
    "start_time": "2024-09-20T17:51:56.131Z"
   },
   {
    "duration": 656,
    "start_time": "2024-09-20T17:53:11.646Z"
   },
   {
    "duration": 88,
    "start_time": "2024-09-20T17:53:12.304Z"
   },
   {
    "duration": 4,
    "start_time": "2024-09-20T17:53:12.394Z"
   },
   {
    "duration": 11,
    "start_time": "2024-09-20T17:53:12.400Z"
   },
   {
    "duration": 20,
    "start_time": "2024-09-20T17:53:12.412Z"
   },
   {
    "duration": 8,
    "start_time": "2024-09-20T17:53:12.433Z"
   },
   {
    "duration": 7,
    "start_time": "2024-09-20T17:53:12.442Z"
   },
   {
    "duration": 6,
    "start_time": "2024-09-20T17:53:12.450Z"
   },
   {
    "duration": 10,
    "start_time": "2024-09-20T17:53:12.457Z"
   },
   {
    "duration": 9,
    "start_time": "2024-09-20T17:53:12.469Z"
   },
   {
    "duration": 18,
    "start_time": "2024-09-20T17:53:12.479Z"
   },
   {
    "duration": 15,
    "start_time": "2024-09-20T17:53:12.498Z"
   },
   {
    "duration": 10,
    "start_time": "2024-09-20T17:53:12.515Z"
   },
   {
    "duration": 34,
    "start_time": "2024-09-20T17:53:12.527Z"
   },
   {
    "duration": 578,
    "start_time": "2024-09-20T17:53:12.563Z"
   },
   {
    "duration": 196,
    "start_time": "2024-09-20T17:53:13.143Z"
   },
   {
    "duration": 278,
    "start_time": "2024-09-20T18:11:28.707Z"
   },
   {
    "duration": 360,
    "start_time": "2024-09-20T18:18:10.708Z"
   },
   {
    "duration": 250,
    "start_time": "2024-09-20T18:18:19.996Z"
   },
   {
    "duration": 161,
    "start_time": "2024-09-20T18:52:21.424Z"
   },
   {
    "duration": 194,
    "start_time": "2024-09-20T18:52:34.054Z"
   },
   {
    "duration": 67,
    "start_time": "2024-09-20T18:55:13.404Z"
   },
   {
    "duration": 156,
    "start_time": "2024-09-20T18:55:21.504Z"
   },
   {
    "duration": 172,
    "start_time": "2024-09-20T18:57:41.079Z"
   },
   {
    "duration": 254,
    "start_time": "2024-09-20T19:15:01.789Z"
   },
   {
    "duration": 299,
    "start_time": "2024-09-20T19:16:22.989Z"
   },
   {
    "duration": 303,
    "start_time": "2024-09-20T19:17:33.769Z"
   },
   {
    "duration": 267,
    "start_time": "2024-09-20T19:17:48.201Z"
   },
   {
    "duration": 77,
    "start_time": "2024-09-20T19:51:59.905Z"
   },
   {
    "duration": 18,
    "start_time": "2024-09-20T19:52:14.756Z"
   },
   {
    "duration": 126,
    "start_time": "2024-09-20T19:52:37.736Z"
   },
   {
    "duration": 202,
    "start_time": "2024-09-20T19:54:43.461Z"
   },
   {
    "duration": 125,
    "start_time": "2024-09-20T19:57:31.522Z"
   },
   {
    "duration": 135,
    "start_time": "2024-09-20T19:59:24.630Z"
   },
   {
    "duration": 4,
    "start_time": "2024-09-20T20:28:11.885Z"
   },
   {
    "duration": 831,
    "start_time": "2024-09-21T13:53:32.176Z"
   },
   {
    "duration": 233,
    "start_time": "2024-09-21T13:53:33.009Z"
   },
   {
    "duration": 4,
    "start_time": "2024-09-21T13:53:33.244Z"
   },
   {
    "duration": 35,
    "start_time": "2024-09-21T13:53:33.251Z"
   },
   {
    "duration": 8,
    "start_time": "2024-09-21T13:53:33.288Z"
   },
   {
    "duration": 9,
    "start_time": "2024-09-21T13:53:33.298Z"
   },
   {
    "duration": 32,
    "start_time": "2024-09-21T13:53:33.309Z"
   },
   {
    "duration": 31,
    "start_time": "2024-09-21T13:53:33.343Z"
   },
   {
    "duration": 14,
    "start_time": "2024-09-21T13:53:33.376Z"
   },
   {
    "duration": 10,
    "start_time": "2024-09-21T13:53:33.393Z"
   },
   {
    "duration": 42,
    "start_time": "2024-09-21T13:53:33.404Z"
   },
   {
    "duration": 23,
    "start_time": "2024-09-21T13:53:33.448Z"
   },
   {
    "duration": 15,
    "start_time": "2024-09-21T13:53:33.473Z"
   },
   {
    "duration": 15,
    "start_time": "2024-09-21T13:53:33.489Z"
   },
   {
    "duration": 666,
    "start_time": "2024-09-21T13:53:33.506Z"
   },
   {
    "duration": 198,
    "start_time": "2024-09-21T13:53:34.174Z"
   },
   {
    "duration": 349,
    "start_time": "2024-09-21T13:53:34.374Z"
   },
   {
    "duration": 243,
    "start_time": "2024-09-21T13:53:34.724Z"
   },
   {
    "duration": 310,
    "start_time": "2024-09-21T13:53:34.969Z"
   },
   {
    "duration": 154,
    "start_time": "2024-09-21T13:53:35.280Z"
   },
   {
    "duration": 5,
    "start_time": "2024-09-21T13:53:35.436Z"
   },
   {
    "duration": 94,
    "start_time": "2024-09-21T13:53:35.442Z"
   },
   {
    "duration": 147,
    "start_time": "2024-09-21T13:53:56.180Z"
   },
   {
    "duration": 151,
    "start_time": "2024-09-21T13:54:45.776Z"
   },
   {
    "duration": 11,
    "start_time": "2024-09-21T13:56:00.687Z"
   },
   {
    "duration": 172,
    "start_time": "2024-09-21T13:56:10.521Z"
   },
   {
    "duration": 8,
    "start_time": "2024-09-21T14:02:05.090Z"
   },
   {
    "duration": 4,
    "start_time": "2024-09-21T14:02:14.102Z"
   },
   {
    "duration": 8,
    "start_time": "2024-09-21T14:02:27.562Z"
   },
   {
    "duration": 4,
    "start_time": "2024-09-21T14:02:43.188Z"
   },
   {
    "duration": 164,
    "start_time": "2024-09-21T14:04:52.042Z"
   },
   {
    "duration": 114,
    "start_time": "2024-09-21T14:17:07.210Z"
   },
   {
    "duration": 245,
    "start_time": "2024-09-21T14:19:57.494Z"
   },
   {
    "duration": 357,
    "start_time": "2024-09-21T14:20:57.098Z"
   },
   {
    "duration": 489,
    "start_time": "2024-09-21T14:21:48.676Z"
   },
   {
    "duration": 1147,
    "start_time": "2024-09-21T14:22:27.111Z"
   },
   {
    "duration": 84,
    "start_time": "2024-09-21T14:22:28.264Z"
   },
   {
    "duration": 5,
    "start_time": "2024-09-21T14:22:28.350Z"
   },
   {
    "duration": 15,
    "start_time": "2024-09-21T14:22:28.357Z"
   },
   {
    "duration": 20,
    "start_time": "2024-09-21T14:22:28.374Z"
   },
   {
    "duration": 22,
    "start_time": "2024-09-21T14:22:28.396Z"
   },
   {
    "duration": 11,
    "start_time": "2024-09-21T14:22:28.419Z"
   },
   {
    "duration": 11,
    "start_time": "2024-09-21T14:22:28.432Z"
   },
   {
    "duration": 14,
    "start_time": "2024-09-21T14:22:28.445Z"
   },
   {
    "duration": 21,
    "start_time": "2024-09-21T14:22:28.461Z"
   },
   {
    "duration": 12,
    "start_time": "2024-09-21T14:22:28.484Z"
   },
   {
    "duration": 10,
    "start_time": "2024-09-21T14:22:28.498Z"
   },
   {
    "duration": 12,
    "start_time": "2024-09-21T14:22:28.510Z"
   },
   {
    "duration": 12,
    "start_time": "2024-09-21T14:22:28.524Z"
   },
   {
    "duration": 580,
    "start_time": "2024-09-21T14:22:28.575Z"
   },
   {
    "duration": 226,
    "start_time": "2024-09-21T14:22:29.157Z"
   },
   {
    "duration": 358,
    "start_time": "2024-09-21T14:22:29.385Z"
   },
   {
    "duration": 257,
    "start_time": "2024-09-21T14:22:29.745Z"
   },
   {
    "duration": 296,
    "start_time": "2024-09-21T14:22:30.003Z"
   },
   {
    "duration": 145,
    "start_time": "2024-09-21T14:22:30.300Z"
   },
   {
    "duration": 5,
    "start_time": "2024-09-21T14:22:30.446Z"
   },
   {
    "duration": 188,
    "start_time": "2024-09-21T14:22:30.452Z"
   },
   {
    "duration": 5,
    "start_time": "2024-09-21T14:22:30.641Z"
   },
   {
    "duration": 551,
    "start_time": "2024-09-21T14:22:30.647Z"
   },
   {
    "duration": 618,
    "start_time": "2024-09-21T15:22:37.407Z"
   },
   {
    "duration": 503,
    "start_time": "2024-09-21T15:22:54.176Z"
   },
   {
    "duration": 507,
    "start_time": "2024-09-21T15:23:34.061Z"
   },
   {
    "duration": 549,
    "start_time": "2024-09-21T15:23:44.233Z"
   },
   {
    "duration": 13,
    "start_time": "2024-09-21T15:30:42.391Z"
   },
   {
    "duration": 13,
    "start_time": "2024-09-21T15:31:05.575Z"
   },
   {
    "duration": 1200,
    "start_time": "2024-09-21T15:41:38.778Z"
   },
   {
    "duration": 1267,
    "start_time": "2024-09-21T15:42:10.286Z"
   },
   {
    "duration": 1252,
    "start_time": "2024-09-21T15:42:23.026Z"
   },
   {
    "duration": 8,
    "start_time": "2024-09-21T15:42:43.646Z"
   },
   {
    "duration": 8,
    "start_time": "2024-09-21T15:43:31.046Z"
   },
   {
    "duration": 28,
    "start_time": "2024-09-21T15:44:08.610Z"
   },
   {
    "duration": 1144,
    "start_time": "2024-09-21T15:44:39.979Z"
   },
   {
    "duration": 84,
    "start_time": "2024-09-21T15:44:41.125Z"
   },
   {
    "duration": 5,
    "start_time": "2024-09-21T15:44:41.210Z"
   },
   {
    "duration": 12,
    "start_time": "2024-09-21T15:44:41.216Z"
   },
   {
    "duration": 13,
    "start_time": "2024-09-21T15:44:41.229Z"
   },
   {
    "duration": 10,
    "start_time": "2024-09-21T15:44:41.243Z"
   },
   {
    "duration": 7,
    "start_time": "2024-09-21T15:44:41.254Z"
   },
   {
    "duration": 23,
    "start_time": "2024-09-21T15:44:41.263Z"
   },
   {
    "duration": 9,
    "start_time": "2024-09-21T15:44:41.287Z"
   },
   {
    "duration": 8,
    "start_time": "2024-09-21T15:44:41.298Z"
   },
   {
    "duration": 10,
    "start_time": "2024-09-21T15:44:41.307Z"
   },
   {
    "duration": 9,
    "start_time": "2024-09-21T15:44:41.318Z"
   },
   {
    "duration": 24,
    "start_time": "2024-09-21T15:44:41.329Z"
   },
   {
    "duration": 29,
    "start_time": "2024-09-21T15:44:41.355Z"
   },
   {
    "duration": 630,
    "start_time": "2024-09-21T15:44:41.386Z"
   },
   {
    "duration": 216,
    "start_time": "2024-09-21T15:44:42.018Z"
   },
   {
    "duration": 361,
    "start_time": "2024-09-21T15:44:42.236Z"
   },
   {
    "duration": 192,
    "start_time": "2024-09-21T15:44:42.599Z"
   },
   {
    "duration": 296,
    "start_time": "2024-09-21T15:44:42.793Z"
   },
   {
    "duration": 137,
    "start_time": "2024-09-21T15:44:43.090Z"
   },
   {
    "duration": 5,
    "start_time": "2024-09-21T15:44:43.228Z"
   },
   {
    "duration": 174,
    "start_time": "2024-09-21T15:44:43.234Z"
   },
   {
    "duration": 4,
    "start_time": "2024-09-21T15:44:43.410Z"
   },
   {
    "duration": 537,
    "start_time": "2024-09-21T15:44:43.416Z"
   },
   {
    "duration": 26,
    "start_time": "2024-09-21T15:44:43.955Z"
   },
   {
    "duration": 8,
    "start_time": "2024-09-21T15:44:43.983Z"
   },
   {
    "duration": 47,
    "start_time": "2024-09-21T15:44:43.993Z"
   },
   {
    "duration": 1212,
    "start_time": "2024-09-21T15:46:09.436Z"
   },
   {
    "duration": 94,
    "start_time": "2024-09-21T15:46:10.650Z"
   },
   {
    "duration": 6,
    "start_time": "2024-09-21T15:46:10.746Z"
   },
   {
    "duration": 24,
    "start_time": "2024-09-21T15:46:10.754Z"
   },
   {
    "duration": 10,
    "start_time": "2024-09-21T15:46:10.783Z"
   },
   {
    "duration": 14,
    "start_time": "2024-09-21T15:46:10.795Z"
   },
   {
    "duration": 8,
    "start_time": "2024-09-21T15:46:10.810Z"
   },
   {
    "duration": 7,
    "start_time": "2024-09-21T15:46:10.820Z"
   },
   {
    "duration": 10,
    "start_time": "2024-09-21T15:46:10.828Z"
   },
   {
    "duration": 29,
    "start_time": "2024-09-21T15:46:10.840Z"
   },
   {
    "duration": 13,
    "start_time": "2024-09-21T15:46:10.870Z"
   },
   {
    "duration": 16,
    "start_time": "2024-09-21T15:46:10.885Z"
   },
   {
    "duration": 16,
    "start_time": "2024-09-21T15:46:10.902Z"
   },
   {
    "duration": 11,
    "start_time": "2024-09-21T15:46:10.920Z"
   },
   {
    "duration": 579,
    "start_time": "2024-09-21T15:46:10.933Z"
   },
   {
    "duration": 204,
    "start_time": "2024-09-21T15:46:11.513Z"
   },
   {
    "duration": 317,
    "start_time": "2024-09-21T15:46:11.719Z"
   },
   {
    "duration": 209,
    "start_time": "2024-09-21T15:46:12.037Z"
   },
   {
    "duration": 352,
    "start_time": "2024-09-21T15:46:12.249Z"
   },
   {
    "duration": 146,
    "start_time": "2024-09-21T15:46:12.604Z"
   },
   {
    "duration": 4,
    "start_time": "2024-09-21T15:46:12.751Z"
   },
   {
    "duration": 170,
    "start_time": "2024-09-21T15:46:12.765Z"
   },
   {
    "duration": 4,
    "start_time": "2024-09-21T15:46:12.937Z"
   },
   {
    "duration": 550,
    "start_time": "2024-09-21T15:46:12.943Z"
   },
   {
    "duration": 9,
    "start_time": "2024-09-21T15:46:13.495Z"
   },
   {
    "duration": 17,
    "start_time": "2024-09-21T15:46:13.506Z"
   },
   {
    "duration": 69,
    "start_time": "2024-09-21T15:46:13.525Z"
   },
   {
    "duration": 1448,
    "start_time": "2024-09-21T16:00:36.765Z"
   },
   {
    "duration": 1103,
    "start_time": "2024-09-21T16:00:57.955Z"
   },
   {
    "duration": 13,
    "start_time": "2024-09-21T16:01:19.884Z"
   },
   {
    "duration": 1118,
    "start_time": "2024-09-21T16:01:48.337Z"
   },
   {
    "duration": 92,
    "start_time": "2024-09-21T16:01:49.457Z"
   },
   {
    "duration": 6,
    "start_time": "2024-09-21T16:01:49.551Z"
   },
   {
    "duration": 20,
    "start_time": "2024-09-21T16:01:49.559Z"
   },
   {
    "duration": 12,
    "start_time": "2024-09-21T16:01:49.584Z"
   },
   {
    "duration": 8,
    "start_time": "2024-09-21T16:01:49.599Z"
   },
   {
    "duration": 7,
    "start_time": "2024-09-21T16:01:49.609Z"
   },
   {
    "duration": 9,
    "start_time": "2024-09-21T16:01:49.617Z"
   },
   {
    "duration": 10,
    "start_time": "2024-09-21T16:01:49.627Z"
   },
   {
    "duration": 43,
    "start_time": "2024-09-21T16:01:49.640Z"
   },
   {
    "duration": 12,
    "start_time": "2024-09-21T16:01:49.685Z"
   },
   {
    "duration": 13,
    "start_time": "2024-09-21T16:01:49.698Z"
   },
   {
    "duration": 15,
    "start_time": "2024-09-21T16:01:49.713Z"
   },
   {
    "duration": 50,
    "start_time": "2024-09-21T16:01:49.730Z"
   },
   {
    "duration": 570,
    "start_time": "2024-09-21T16:01:49.783Z"
   },
   {
    "duration": 210,
    "start_time": "2024-09-21T16:01:50.355Z"
   },
   {
    "duration": 346,
    "start_time": "2024-09-21T16:01:50.567Z"
   },
   {
    "duration": 235,
    "start_time": "2024-09-21T16:01:50.915Z"
   },
   {
    "duration": 390,
    "start_time": "2024-09-21T16:01:51.153Z"
   },
   {
    "duration": 177,
    "start_time": "2024-09-21T16:01:51.545Z"
   },
   {
    "duration": 4,
    "start_time": "2024-09-21T16:01:51.724Z"
   },
   {
    "duration": 194,
    "start_time": "2024-09-21T16:01:51.730Z"
   },
   {
    "duration": 4,
    "start_time": "2024-09-21T16:01:51.926Z"
   },
   {
    "duration": 560,
    "start_time": "2024-09-21T16:01:51.932Z"
   },
   {
    "duration": 11,
    "start_time": "2024-09-21T16:01:52.494Z"
   },
   {
    "duration": 9,
    "start_time": "2024-09-21T16:01:52.506Z"
   },
   {
    "duration": 71,
    "start_time": "2024-09-21T16:01:52.517Z"
   },
   {
    "duration": 21,
    "start_time": "2024-09-21T16:01:52.591Z"
   },
   {
    "duration": 1149,
    "start_time": "2024-09-21T16:06:33.494Z"
   },
   {
    "duration": 85,
    "start_time": "2024-09-21T16:06:34.645Z"
   },
   {
    "duration": 5,
    "start_time": "2024-09-21T16:06:34.731Z"
   },
   {
    "duration": 31,
    "start_time": "2024-09-21T16:06:34.737Z"
   },
   {
    "duration": 17,
    "start_time": "2024-09-21T16:06:34.770Z"
   },
   {
    "duration": 15,
    "start_time": "2024-09-21T16:06:34.789Z"
   },
   {
    "duration": 18,
    "start_time": "2024-09-21T16:06:34.805Z"
   },
   {
    "duration": 6,
    "start_time": "2024-09-21T16:06:34.825Z"
   },
   {
    "duration": 12,
    "start_time": "2024-09-21T16:06:34.833Z"
   },
   {
    "duration": 30,
    "start_time": "2024-09-21T16:06:34.847Z"
   },
   {
    "duration": 18,
    "start_time": "2024-09-21T16:06:34.879Z"
   },
   {
    "duration": 32,
    "start_time": "2024-09-21T16:06:34.898Z"
   },
   {
    "duration": 10,
    "start_time": "2024-09-21T16:06:34.932Z"
   },
   {
    "duration": 43,
    "start_time": "2024-09-21T16:06:34.944Z"
   },
   {
    "duration": 578,
    "start_time": "2024-09-21T16:06:34.989Z"
   },
   {
    "duration": 206,
    "start_time": "2024-09-21T16:06:35.576Z"
   },
   {
    "duration": 316,
    "start_time": "2024-09-21T16:06:35.785Z"
   },
   {
    "duration": 218,
    "start_time": "2024-09-21T16:06:36.102Z"
   },
   {
    "duration": 320,
    "start_time": "2024-09-21T16:06:36.321Z"
   },
   {
    "duration": 149,
    "start_time": "2024-09-21T16:06:36.643Z"
   },
   {
    "duration": 4,
    "start_time": "2024-09-21T16:06:36.793Z"
   },
   {
    "duration": 185,
    "start_time": "2024-09-21T16:06:36.798Z"
   },
   {
    "duration": 5,
    "start_time": "2024-09-21T16:06:36.985Z"
   },
   {
    "duration": 523,
    "start_time": "2024-09-21T16:06:36.992Z"
   },
   {
    "duration": 10,
    "start_time": "2024-09-21T16:06:37.517Z"
   },
   {
    "duration": 9,
    "start_time": "2024-09-21T16:06:37.528Z"
   },
   {
    "duration": 59,
    "start_time": "2024-09-21T16:06:37.539Z"
   },
   {
    "duration": 13,
    "start_time": "2024-09-21T16:06:37.601Z"
   },
   {
    "duration": 366,
    "start_time": "2024-09-21T16:15:44.075Z"
   },
   {
    "duration": 1144,
    "start_time": "2024-09-21T16:24:16.541Z"
   },
   {
    "duration": 93,
    "start_time": "2024-09-21T16:24:17.687Z"
   },
   {
    "duration": 5,
    "start_time": "2024-09-21T16:24:17.781Z"
   },
   {
    "duration": 12,
    "start_time": "2024-09-21T16:24:17.787Z"
   },
   {
    "duration": 14,
    "start_time": "2024-09-21T16:24:17.801Z"
   },
   {
    "duration": 7,
    "start_time": "2024-09-21T16:24:17.817Z"
   },
   {
    "duration": 13,
    "start_time": "2024-09-21T16:24:17.826Z"
   },
   {
    "duration": 9,
    "start_time": "2024-09-21T16:24:17.840Z"
   },
   {
    "duration": 26,
    "start_time": "2024-09-21T16:24:17.851Z"
   },
   {
    "duration": 10,
    "start_time": "2024-09-21T16:24:17.879Z"
   },
   {
    "duration": 20,
    "start_time": "2024-09-21T16:24:17.890Z"
   },
   {
    "duration": 8,
    "start_time": "2024-09-21T16:24:17.912Z"
   },
   {
    "duration": 10,
    "start_time": "2024-09-21T16:24:17.922Z"
   },
   {
    "duration": 12,
    "start_time": "2024-09-21T16:24:17.934Z"
   },
   {
    "duration": 593,
    "start_time": "2024-09-21T16:24:17.948Z"
   },
   {
    "duration": 197,
    "start_time": "2024-09-21T16:24:18.543Z"
   },
   {
    "duration": 340,
    "start_time": "2024-09-21T16:24:18.742Z"
   },
   {
    "duration": 215,
    "start_time": "2024-09-21T16:24:19.085Z"
   },
   {
    "duration": 297,
    "start_time": "2024-09-21T16:24:19.302Z"
   },
   {
    "duration": 138,
    "start_time": "2024-09-21T16:24:19.601Z"
   },
   {
    "duration": 4,
    "start_time": "2024-09-21T16:24:19.741Z"
   },
   {
    "duration": 190,
    "start_time": "2024-09-21T16:24:19.747Z"
   },
   {
    "duration": 5,
    "start_time": "2024-09-21T16:24:19.939Z"
   },
   {
    "duration": 530,
    "start_time": "2024-09-21T16:24:19.946Z"
   },
   {
    "duration": 12,
    "start_time": "2024-09-21T16:24:20.478Z"
   },
   {
    "duration": 9,
    "start_time": "2024-09-21T16:24:20.491Z"
   },
   {
    "duration": 30,
    "start_time": "2024-09-21T16:24:20.501Z"
   },
   {
    "duration": 41,
    "start_time": "2024-09-21T16:24:20.533Z"
   },
   {
    "duration": 1137,
    "start_time": "2024-09-21T16:41:58.185Z"
   },
   {
    "duration": 86,
    "start_time": "2024-09-21T16:41:59.324Z"
   },
   {
    "duration": 4,
    "start_time": "2024-09-21T16:41:59.412Z"
   },
   {
    "duration": 20,
    "start_time": "2024-09-21T16:41:59.418Z"
   },
   {
    "duration": 11,
    "start_time": "2024-09-21T16:41:59.440Z"
   },
   {
    "duration": 12,
    "start_time": "2024-09-21T16:41:59.452Z"
   },
   {
    "duration": 14,
    "start_time": "2024-09-21T16:41:59.467Z"
   },
   {
    "duration": 19,
    "start_time": "2024-09-21T16:41:59.482Z"
   },
   {
    "duration": 12,
    "start_time": "2024-09-21T16:41:59.503Z"
   },
   {
    "duration": 8,
    "start_time": "2024-09-21T16:41:59.517Z"
   },
   {
    "duration": 10,
    "start_time": "2024-09-21T16:41:59.526Z"
   },
   {
    "duration": 17,
    "start_time": "2024-09-21T16:41:59.538Z"
   },
   {
    "duration": 37,
    "start_time": "2024-09-21T16:41:59.557Z"
   },
   {
    "duration": 16,
    "start_time": "2024-09-21T16:41:59.597Z"
   },
   {
    "duration": 602,
    "start_time": "2024-09-21T16:41:59.614Z"
   },
   {
    "duration": 211,
    "start_time": "2024-09-21T16:42:00.217Z"
   },
   {
    "duration": 368,
    "start_time": "2024-09-21T16:42:00.430Z"
   },
   {
    "duration": 209,
    "start_time": "2024-09-21T16:42:00.800Z"
   },
   {
    "duration": 296,
    "start_time": "2024-09-21T16:42:01.012Z"
   },
   {
    "duration": 143,
    "start_time": "2024-09-21T16:42:01.309Z"
   },
   {
    "duration": 16,
    "start_time": "2024-09-21T16:42:01.454Z"
   },
   {
    "duration": 164,
    "start_time": "2024-09-21T16:42:01.472Z"
   },
   {
    "duration": 4,
    "start_time": "2024-09-21T16:42:01.638Z"
   },
   {
    "duration": 561,
    "start_time": "2024-09-21T16:42:01.643Z"
   },
   {
    "duration": 10,
    "start_time": "2024-09-21T16:42:02.205Z"
   },
   {
    "duration": 10,
    "start_time": "2024-09-21T16:42:02.217Z"
   },
   {
    "duration": 58,
    "start_time": "2024-09-21T16:42:02.228Z"
   },
   {
    "duration": 14,
    "start_time": "2024-09-21T16:42:02.288Z"
   },
   {
    "duration": 1284,
    "start_time": "2024-09-21T16:55:06.242Z"
   },
   {
    "duration": 237,
    "start_time": "2024-09-21T16:55:07.529Z"
   },
   {
    "duration": 4,
    "start_time": "2024-09-21T16:55:07.768Z"
   },
   {
    "duration": 16,
    "start_time": "2024-09-21T16:55:07.774Z"
   },
   {
    "duration": 20,
    "start_time": "2024-09-21T16:55:07.792Z"
   },
   {
    "duration": 11,
    "start_time": "2024-09-21T16:55:07.813Z"
   },
   {
    "duration": 13,
    "start_time": "2024-09-21T16:55:07.825Z"
   },
   {
    "duration": 6,
    "start_time": "2024-09-21T16:55:07.840Z"
   },
   {
    "duration": 9,
    "start_time": "2024-09-21T16:55:07.848Z"
   },
   {
    "duration": 8,
    "start_time": "2024-09-21T16:55:07.859Z"
   },
   {
    "duration": 11,
    "start_time": "2024-09-21T16:55:07.868Z"
   },
   {
    "duration": 64,
    "start_time": "2024-09-21T16:55:07.881Z"
   },
   {
    "duration": 14,
    "start_time": "2024-09-21T16:55:07.946Z"
   },
   {
    "duration": 10,
    "start_time": "2024-09-21T16:55:07.963Z"
   },
   {
    "duration": 566,
    "start_time": "2024-09-21T16:55:07.975Z"
   },
   {
    "duration": 207,
    "start_time": "2024-09-21T16:55:08.543Z"
   },
   {
    "duration": 326,
    "start_time": "2024-09-21T16:55:08.752Z"
   },
   {
    "duration": 199,
    "start_time": "2024-09-21T16:55:09.080Z"
   },
   {
    "duration": 301,
    "start_time": "2024-09-21T16:55:09.281Z"
   },
   {
    "duration": 161,
    "start_time": "2024-09-21T16:55:09.585Z"
   },
   {
    "duration": 3,
    "start_time": "2024-09-21T16:55:09.748Z"
   },
   {
    "duration": 166,
    "start_time": "2024-09-21T16:55:09.753Z"
   },
   {
    "duration": 4,
    "start_time": "2024-09-21T16:55:09.926Z"
   },
   {
    "duration": 604,
    "start_time": "2024-09-21T16:55:09.932Z"
   },
   {
    "duration": 10,
    "start_time": "2024-09-21T16:55:10.538Z"
   },
   {
    "duration": 58,
    "start_time": "2024-09-21T16:55:10.549Z"
   },
   {
    "duration": 33,
    "start_time": "2024-09-21T16:55:10.609Z"
   },
   {
    "duration": 14,
    "start_time": "2024-09-21T16:55:10.644Z"
   },
   {
    "duration": 13,
    "start_time": "2024-09-21T17:49:02.579Z"
   },
   {
    "duration": 13,
    "start_time": "2024-09-21T17:49:15.776Z"
   },
   {
    "duration": 8,
    "start_time": "2024-09-21T17:54:18.344Z"
   },
   {
    "duration": 15,
    "start_time": "2024-09-21T17:54:28.737Z"
   },
   {
    "duration": 14,
    "start_time": "2024-09-21T17:55:04.761Z"
   },
   {
    "duration": 11,
    "start_time": "2024-09-21T17:55:20.045Z"
   },
   {
    "duration": 90,
    "start_time": "2024-09-21T17:56:18.445Z"
   },
   {
    "duration": 9,
    "start_time": "2024-09-21T17:56:23.597Z"
   },
   {
    "duration": 14,
    "start_time": "2024-09-21T17:57:12.818Z"
   },
   {
    "duration": 14,
    "start_time": "2024-09-21T17:59:00.213Z"
   },
   {
    "duration": 6,
    "start_time": "2024-09-21T17:59:29.697Z"
   },
   {
    "duration": 5,
    "start_time": "2024-09-21T17:59:35.697Z"
   },
   {
    "duration": 4,
    "start_time": "2024-09-21T17:59:46.454Z"
   },
   {
    "duration": 75,
    "start_time": "2024-09-21T18:01:09.574Z"
   },
   {
    "duration": 98,
    "start_time": "2024-09-21T18:01:20.527Z"
   },
   {
    "duration": 5,
    "start_time": "2024-09-21T18:01:26.006Z"
   },
   {
    "duration": 9,
    "start_time": "2024-09-21T18:01:39.086Z"
   },
   {
    "duration": 5,
    "start_time": "2024-09-21T18:02:12.311Z"
   },
   {
    "duration": 6,
    "start_time": "2024-09-21T18:02:18.146Z"
   },
   {
    "duration": 13,
    "start_time": "2024-09-21T18:04:23.099Z"
   },
   {
    "duration": 1074,
    "start_time": "2024-09-21T18:05:36.679Z"
   },
   {
    "duration": 84,
    "start_time": "2024-09-21T18:05:37.755Z"
   },
   {
    "duration": 5,
    "start_time": "2024-09-21T18:05:37.841Z"
   },
   {
    "duration": 13,
    "start_time": "2024-09-21T18:05:37.848Z"
   },
   {
    "duration": 11,
    "start_time": "2024-09-21T18:05:37.863Z"
   },
   {
    "duration": 7,
    "start_time": "2024-09-21T18:05:37.876Z"
   },
   {
    "duration": 6,
    "start_time": "2024-09-21T18:05:37.885Z"
   },
   {
    "duration": 11,
    "start_time": "2024-09-21T18:05:37.893Z"
   },
   {
    "duration": 23,
    "start_time": "2024-09-21T18:05:37.905Z"
   },
   {
    "duration": 9,
    "start_time": "2024-09-21T18:05:37.931Z"
   },
   {
    "duration": 23,
    "start_time": "2024-09-21T18:05:37.942Z"
   },
   {
    "duration": 10,
    "start_time": "2024-09-21T18:05:37.966Z"
   },
   {
    "duration": 10,
    "start_time": "2024-09-21T18:05:37.977Z"
   },
   {
    "duration": 9,
    "start_time": "2024-09-21T18:05:37.988Z"
   },
   {
    "duration": 7,
    "start_time": "2024-09-21T18:05:37.999Z"
   },
   {
    "duration": 4,
    "start_time": "2024-09-21T18:05:38.007Z"
   },
   {
    "duration": 10,
    "start_time": "2024-09-21T18:05:38.012Z"
   },
   {
    "duration": 4,
    "start_time": "2024-09-21T18:05:38.023Z"
   },
   {
    "duration": 39,
    "start_time": "2024-09-21T18:05:38.028Z"
   },
   {
    "duration": 7,
    "start_time": "2024-09-21T18:05:38.068Z"
   },
   {
    "duration": 568,
    "start_time": "2024-09-21T18:05:38.077Z"
   },
   {
    "duration": 194,
    "start_time": "2024-09-21T18:05:38.646Z"
   },
   {
    "duration": 312,
    "start_time": "2024-09-21T18:05:38.841Z"
   },
   {
    "duration": 182,
    "start_time": "2024-09-21T18:05:39.164Z"
   },
   {
    "duration": 319,
    "start_time": "2024-09-21T18:05:39.348Z"
   },
   {
    "duration": 165,
    "start_time": "2024-09-21T18:05:39.668Z"
   },
   {
    "duration": 4,
    "start_time": "2024-09-21T18:05:39.835Z"
   },
   {
    "duration": 161,
    "start_time": "2024-09-21T18:05:39.841Z"
   },
   {
    "duration": 4,
    "start_time": "2024-09-21T18:05:40.004Z"
   },
   {
    "duration": 504,
    "start_time": "2024-09-21T18:05:40.009Z"
   },
   {
    "duration": 11,
    "start_time": "2024-09-21T18:05:40.515Z"
   },
   {
    "duration": 8,
    "start_time": "2024-09-21T18:05:40.528Z"
   },
   {
    "duration": 30,
    "start_time": "2024-09-21T18:05:40.565Z"
   },
   {
    "duration": 19,
    "start_time": "2024-09-21T18:05:40.597Z"
   },
   {
    "duration": 70,
    "start_time": "2024-09-21T18:06:43.447Z"
   },
   {
    "duration": 313,
    "start_time": "2024-09-21T18:08:45.555Z"
   },
   {
    "duration": 197,
    "start_time": "2024-09-21T18:08:58.099Z"
   },
   {
    "duration": 211,
    "start_time": "2024-09-21T18:09:25.884Z"
   },
   {
    "duration": 373,
    "start_time": "2024-09-21T18:11:46.980Z"
   },
   {
    "duration": 279,
    "start_time": "2024-09-21T18:12:53.328Z"
   },
   {
    "duration": 222,
    "start_time": "2024-09-21T18:13:01.788Z"
   },
   {
    "duration": 212,
    "start_time": "2024-09-21T18:13:11.080Z"
   },
   {
    "duration": 583,
    "start_time": "2024-09-21T18:13:26.489Z"
   },
   {
    "duration": 639,
    "start_time": "2024-09-21T18:13:36.920Z"
   },
   {
    "duration": 463,
    "start_time": "2024-09-21T18:13:50.581Z"
   },
   {
    "duration": 402,
    "start_time": "2024-09-21T18:13:57.108Z"
   },
   {
    "duration": 519,
    "start_time": "2024-09-21T18:14:07.280Z"
   },
   {
    "duration": 1030,
    "start_time": "2024-09-21T18:14:23.805Z"
   },
   {
    "duration": 83,
    "start_time": "2024-09-21T18:14:24.837Z"
   },
   {
    "duration": 4,
    "start_time": "2024-09-21T18:14:24.921Z"
   },
   {
    "duration": 21,
    "start_time": "2024-09-21T18:14:24.927Z"
   },
   {
    "duration": 11,
    "start_time": "2024-09-21T18:14:24.949Z"
   },
   {
    "duration": 7,
    "start_time": "2024-09-21T18:14:24.962Z"
   },
   {
    "duration": 8,
    "start_time": "2024-09-21T18:14:24.970Z"
   },
   {
    "duration": 6,
    "start_time": "2024-09-21T18:14:24.979Z"
   },
   {
    "duration": 11,
    "start_time": "2024-09-21T18:14:24.987Z"
   },
   {
    "duration": 8,
    "start_time": "2024-09-21T18:14:25.000Z"
   },
   {
    "duration": 13,
    "start_time": "2024-09-21T18:14:25.009Z"
   },
   {
    "duration": 45,
    "start_time": "2024-09-21T18:14:25.024Z"
   },
   {
    "duration": 11,
    "start_time": "2024-09-21T18:14:25.071Z"
   },
   {
    "duration": 10,
    "start_time": "2024-09-21T18:14:25.084Z"
   },
   {
    "duration": 7,
    "start_time": "2024-09-21T18:14:25.095Z"
   },
   {
    "duration": 20,
    "start_time": "2024-09-21T18:14:25.103Z"
   },
   {
    "duration": 12,
    "start_time": "2024-09-21T18:14:25.125Z"
   },
   {
    "duration": 6,
    "start_time": "2024-09-21T18:14:25.139Z"
   },
   {
    "duration": 25,
    "start_time": "2024-09-21T18:14:25.146Z"
   },
   {
    "duration": 19,
    "start_time": "2024-09-21T18:14:25.173Z"
   },
   {
    "duration": 547,
    "start_time": "2024-09-21T18:14:25.193Z"
   },
   {
    "duration": 212,
    "start_time": "2024-09-21T18:14:25.742Z"
   },
   {
    "duration": 784,
    "start_time": "2024-09-21T18:14:25.956Z"
   },
   {
    "duration": 602,
    "start_time": "2024-09-21T18:14:26.742Z"
   },
   {
    "duration": 705,
    "start_time": "2024-09-21T18:14:27.346Z"
   },
   {
    "duration": 507,
    "start_time": "2024-09-21T18:14:28.053Z"
   },
   {
    "duration": 4,
    "start_time": "2024-09-21T18:14:28.564Z"
   },
   {
    "duration": 592,
    "start_time": "2024-09-21T18:14:28.573Z"
   },
   {
    "duration": 4,
    "start_time": "2024-09-21T18:14:29.167Z"
   },
   {
    "duration": 484,
    "start_time": "2024-09-21T18:14:29.173Z"
   },
   {
    "duration": 10,
    "start_time": "2024-09-21T18:14:29.664Z"
   },
   {
    "duration": 8,
    "start_time": "2024-09-21T18:14:29.676Z"
   },
   {
    "duration": 30,
    "start_time": "2024-09-21T18:14:29.686Z"
   },
   {
    "duration": 13,
    "start_time": "2024-09-21T18:14:29.717Z"
   },
   {
    "duration": 720,
    "start_time": "2024-09-21T18:15:01.317Z"
   },
   {
    "duration": 1150,
    "start_time": "2024-09-21T18:15:13.335Z"
   },
   {
    "duration": 82,
    "start_time": "2024-09-21T18:15:14.487Z"
   },
   {
    "duration": 4,
    "start_time": "2024-09-21T18:15:14.571Z"
   },
   {
    "duration": 53,
    "start_time": "2024-09-21T18:15:14.576Z"
   },
   {
    "duration": 19,
    "start_time": "2024-09-21T18:15:14.630Z"
   },
   {
    "duration": 7,
    "start_time": "2024-09-21T18:15:14.650Z"
   },
   {
    "duration": 7,
    "start_time": "2024-09-21T18:15:14.658Z"
   },
   {
    "duration": 6,
    "start_time": "2024-09-21T18:15:14.666Z"
   },
   {
    "duration": 10,
    "start_time": "2024-09-21T18:15:14.674Z"
   },
   {
    "duration": 8,
    "start_time": "2024-09-21T18:15:14.686Z"
   },
   {
    "duration": 10,
    "start_time": "2024-09-21T18:15:14.695Z"
   },
   {
    "duration": 11,
    "start_time": "2024-09-21T18:15:14.707Z"
   },
   {
    "duration": 13,
    "start_time": "2024-09-21T18:15:14.720Z"
   },
   {
    "duration": 37,
    "start_time": "2024-09-21T18:15:14.735Z"
   },
   {
    "duration": 16,
    "start_time": "2024-09-21T18:15:14.773Z"
   },
   {
    "duration": 34,
    "start_time": "2024-09-21T18:15:14.791Z"
   },
   {
    "duration": 10,
    "start_time": "2024-09-21T18:15:14.827Z"
   },
   {
    "duration": 9,
    "start_time": "2024-09-21T18:15:14.838Z"
   },
   {
    "duration": 5,
    "start_time": "2024-09-21T18:15:14.848Z"
   },
   {
    "duration": 13,
    "start_time": "2024-09-21T18:15:14.854Z"
   },
   {
    "duration": 553,
    "start_time": "2024-09-21T18:15:14.869Z"
   },
   {
    "duration": 215,
    "start_time": "2024-09-21T18:15:15.424Z"
   },
   {
    "duration": 687,
    "start_time": "2024-09-21T18:15:15.641Z"
   },
   {
    "duration": 486,
    "start_time": "2024-09-21T18:15:16.330Z"
   },
   {
    "duration": 595,
    "start_time": "2024-09-21T18:15:16.817Z"
   },
   {
    "duration": 792,
    "start_time": "2024-09-21T18:15:17.413Z"
   },
   {
    "duration": 4,
    "start_time": "2024-09-21T18:15:18.206Z"
   },
   {
    "duration": 755,
    "start_time": "2024-09-21T18:15:18.265Z"
   },
   {
    "duration": 4,
    "start_time": "2024-09-21T18:15:19.022Z"
   },
   {
    "duration": 505,
    "start_time": "2024-09-21T18:15:19.028Z"
   },
   {
    "duration": 12,
    "start_time": "2024-09-21T18:15:19.535Z"
   },
   {
    "duration": 19,
    "start_time": "2024-09-21T18:15:19.567Z"
   },
   {
    "duration": 55,
    "start_time": "2024-09-21T18:15:19.587Z"
   },
   {
    "duration": 14,
    "start_time": "2024-09-21T18:15:19.644Z"
   },
   {
    "duration": 570,
    "start_time": "2024-09-21T18:15:36.907Z"
   },
   {
    "duration": 254,
    "start_time": "2024-09-21T18:16:04.728Z"
   },
   {
    "duration": 216,
    "start_time": "2024-09-21T18:16:15.707Z"
   },
   {
    "duration": 650,
    "start_time": "2024-09-21T18:16:25.748Z"
   },
   {
    "duration": 766,
    "start_time": "2024-09-21T18:16:32.619Z"
   },
   {
    "duration": 1189,
    "start_time": "2024-09-21T18:16:44.865Z"
   },
   {
    "duration": 83,
    "start_time": "2024-09-21T18:16:46.056Z"
   },
   {
    "duration": 5,
    "start_time": "2024-09-21T18:16:46.141Z"
   },
   {
    "duration": 18,
    "start_time": "2024-09-21T18:16:46.148Z"
   },
   {
    "duration": 8,
    "start_time": "2024-09-21T18:16:46.169Z"
   },
   {
    "duration": 11,
    "start_time": "2024-09-21T18:16:46.179Z"
   },
   {
    "duration": 12,
    "start_time": "2024-09-21T18:16:46.192Z"
   },
   {
    "duration": 6,
    "start_time": "2024-09-21T18:16:46.205Z"
   },
   {
    "duration": 10,
    "start_time": "2024-09-21T18:16:46.213Z"
   },
   {
    "duration": 8,
    "start_time": "2024-09-21T18:16:46.225Z"
   },
   {
    "duration": 34,
    "start_time": "2024-09-21T18:16:46.235Z"
   },
   {
    "duration": 9,
    "start_time": "2024-09-21T18:16:46.271Z"
   },
   {
    "duration": 11,
    "start_time": "2024-09-21T18:16:46.281Z"
   },
   {
    "duration": 17,
    "start_time": "2024-09-21T18:16:46.295Z"
   },
   {
    "duration": 8,
    "start_time": "2024-09-21T18:16:46.314Z"
   },
   {
    "duration": 5,
    "start_time": "2024-09-21T18:16:46.323Z"
   },
   {
    "duration": 40,
    "start_time": "2024-09-21T18:16:46.329Z"
   },
   {
    "duration": 8,
    "start_time": "2024-09-21T18:16:46.371Z"
   },
   {
    "duration": 14,
    "start_time": "2024-09-21T18:16:46.380Z"
   },
   {
    "duration": 4,
    "start_time": "2024-09-21T18:16:46.395Z"
   },
   {
    "duration": 588,
    "start_time": "2024-09-21T18:16:46.401Z"
   },
   {
    "duration": 202,
    "start_time": "2024-09-21T18:16:46.991Z"
   },
   {
    "duration": 765,
    "start_time": "2024-09-21T18:16:47.195Z"
   },
   {
    "duration": 614,
    "start_time": "2024-09-21T18:16:47.962Z"
   },
   {
    "duration": 650,
    "start_time": "2024-09-21T18:16:48.577Z"
   },
   {
    "duration": 498,
    "start_time": "2024-09-21T18:16:49.229Z"
   },
   {
    "duration": 4,
    "start_time": "2024-09-21T18:16:49.728Z"
   },
   {
    "duration": 738,
    "start_time": "2024-09-21T18:16:49.734Z"
   },
   {
    "duration": 3,
    "start_time": "2024-09-21T18:16:50.474Z"
   },
   {
    "duration": 994,
    "start_time": "2024-09-21T18:16:50.479Z"
   },
   {
    "duration": 11,
    "start_time": "2024-09-21T18:16:51.474Z"
   },
   {
    "duration": 24,
    "start_time": "2024-09-21T18:16:51.487Z"
   },
   {
    "duration": 82,
    "start_time": "2024-09-21T18:16:51.513Z"
   },
   {
    "duration": 16,
    "start_time": "2024-09-21T18:16:51.596Z"
   },
   {
    "duration": 724,
    "start_time": "2024-09-21T18:17:15.289Z"
   },
   {
    "duration": 1187,
    "start_time": "2024-09-21T18:17:24.791Z"
   },
   {
    "duration": 81,
    "start_time": "2024-09-21T18:17:25.980Z"
   },
   {
    "duration": 4,
    "start_time": "2024-09-21T18:17:26.063Z"
   },
   {
    "duration": 11,
    "start_time": "2024-09-21T18:17:26.068Z"
   },
   {
    "duration": 12,
    "start_time": "2024-09-21T18:17:26.081Z"
   },
   {
    "duration": 11,
    "start_time": "2024-09-21T18:17:26.095Z"
   },
   {
    "duration": 9,
    "start_time": "2024-09-21T18:17:26.108Z"
   },
   {
    "duration": 8,
    "start_time": "2024-09-21T18:17:26.118Z"
   },
   {
    "duration": 54,
    "start_time": "2024-09-21T18:17:26.128Z"
   },
   {
    "duration": 11,
    "start_time": "2024-09-21T18:17:26.184Z"
   },
   {
    "duration": 13,
    "start_time": "2024-09-21T18:17:26.197Z"
   },
   {
    "duration": 10,
    "start_time": "2024-09-21T18:17:26.211Z"
   },
   {
    "duration": 11,
    "start_time": "2024-09-21T18:17:26.223Z"
   },
   {
    "duration": 32,
    "start_time": "2024-09-21T18:17:26.236Z"
   },
   {
    "duration": 15,
    "start_time": "2024-09-21T18:17:26.269Z"
   },
   {
    "duration": 4,
    "start_time": "2024-09-21T18:17:26.286Z"
   },
   {
    "duration": 5,
    "start_time": "2024-09-21T18:17:26.291Z"
   },
   {
    "duration": 4,
    "start_time": "2024-09-21T18:17:26.297Z"
   },
   {
    "duration": 8,
    "start_time": "2024-09-21T18:17:26.302Z"
   },
   {
    "duration": 5,
    "start_time": "2024-09-21T18:17:26.311Z"
   },
   {
    "duration": 570,
    "start_time": "2024-09-21T18:17:26.318Z"
   },
   {
    "duration": 204,
    "start_time": "2024-09-21T18:17:26.890Z"
   },
   {
    "duration": 274,
    "start_time": "2024-09-21T18:17:27.096Z"
   },
   {
    "duration": 189,
    "start_time": "2024-09-21T18:17:27.372Z"
   },
   {
    "duration": 312,
    "start_time": "2024-09-21T18:17:27.565Z"
   },
   {
    "duration": 175,
    "start_time": "2024-09-21T18:17:27.878Z"
   },
   {
    "duration": 11,
    "start_time": "2024-09-21T18:17:28.055Z"
   },
   {
    "duration": 173,
    "start_time": "2024-09-21T18:17:28.068Z"
   },
   {
    "duration": 5,
    "start_time": "2024-09-21T18:17:28.243Z"
   },
   {
    "duration": 507,
    "start_time": "2024-09-21T18:17:28.250Z"
   },
   {
    "duration": 15,
    "start_time": "2024-09-21T18:17:28.759Z"
   },
   {
    "duration": 9,
    "start_time": "2024-09-21T18:17:28.775Z"
   },
   {
    "duration": 33,
    "start_time": "2024-09-21T18:17:28.785Z"
   },
   {
    "duration": 16,
    "start_time": "2024-09-21T18:17:28.819Z"
   },
   {
    "duration": 259,
    "start_time": "2024-09-21T18:17:47.278Z"
   },
   {
    "duration": 1194,
    "start_time": "2024-09-21T18:20:32.934Z"
   },
   {
    "duration": 82,
    "start_time": "2024-09-21T18:20:34.130Z"
   },
   {
    "duration": 5,
    "start_time": "2024-09-21T18:20:34.213Z"
   },
   {
    "duration": 26,
    "start_time": "2024-09-21T18:20:34.220Z"
   },
   {
    "duration": 22,
    "start_time": "2024-09-21T18:20:34.249Z"
   },
   {
    "duration": 11,
    "start_time": "2024-09-21T18:20:34.272Z"
   },
   {
    "duration": 9,
    "start_time": "2024-09-21T18:20:34.285Z"
   },
   {
    "duration": 15,
    "start_time": "2024-09-21T18:20:34.295Z"
   },
   {
    "duration": 19,
    "start_time": "2024-09-21T18:20:34.312Z"
   },
   {
    "duration": 11,
    "start_time": "2024-09-21T18:20:34.332Z"
   },
   {
    "duration": 30,
    "start_time": "2024-09-21T18:20:34.345Z"
   },
   {
    "duration": 26,
    "start_time": "2024-09-21T18:20:34.377Z"
   },
   {
    "duration": 18,
    "start_time": "2024-09-21T18:20:34.405Z"
   },
   {
    "duration": 12,
    "start_time": "2024-09-21T18:20:34.426Z"
   },
   {
    "duration": 6,
    "start_time": "2024-09-21T18:20:34.441Z"
   },
   {
    "duration": 25,
    "start_time": "2024-09-21T18:20:34.448Z"
   },
   {
    "duration": 22,
    "start_time": "2024-09-21T18:20:34.475Z"
   },
   {
    "duration": 16,
    "start_time": "2024-09-21T18:20:34.499Z"
   },
   {
    "duration": 15,
    "start_time": "2024-09-21T18:20:34.517Z"
   },
   {
    "duration": 6,
    "start_time": "2024-09-21T18:20:34.534Z"
   },
   {
    "duration": 573,
    "start_time": "2024-09-21T18:20:34.541Z"
   },
   {
    "duration": 209,
    "start_time": "2024-09-21T18:20:35.115Z"
   },
   {
    "duration": 282,
    "start_time": "2024-09-21T18:20:35.325Z"
   },
   {
    "duration": 242,
    "start_time": "2024-09-21T18:20:35.608Z"
   },
   {
    "duration": 339,
    "start_time": "2024-09-21T18:20:35.852Z"
   },
   {
    "duration": 172,
    "start_time": "2024-09-21T18:20:36.193Z"
   },
   {
    "duration": 5,
    "start_time": "2024-09-21T18:20:36.367Z"
   },
   {
    "duration": 187,
    "start_time": "2024-09-21T18:20:36.374Z"
   },
   {
    "duration": 4,
    "start_time": "2024-09-21T18:20:36.562Z"
   },
   {
    "duration": 549,
    "start_time": "2024-09-21T18:20:36.568Z"
   },
   {
    "duration": 12,
    "start_time": "2024-09-21T18:20:37.119Z"
   },
   {
    "duration": 9,
    "start_time": "2024-09-21T18:20:37.133Z"
   },
   {
    "duration": 56,
    "start_time": "2024-09-21T18:20:37.143Z"
   },
   {
    "duration": 12,
    "start_time": "2024-09-21T18:20:37.201Z"
   },
   {
    "duration": 70,
    "start_time": "2024-09-21T18:22:05.102Z"
   },
   {
    "duration": 85,
    "start_time": "2024-09-21T18:25:05.712Z"
   },
   {
    "duration": 1178,
    "start_time": "2024-09-21T18:33:15.044Z"
   },
   {
    "duration": 83,
    "start_time": "2024-09-21T18:33:16.224Z"
   },
   {
    "duration": 4,
    "start_time": "2024-09-21T18:33:16.309Z"
   },
   {
    "duration": 12,
    "start_time": "2024-09-21T18:33:16.316Z"
   },
   {
    "duration": 11,
    "start_time": "2024-09-21T18:33:16.329Z"
   },
   {
    "duration": 7,
    "start_time": "2024-09-21T18:33:16.341Z"
   },
   {
    "duration": 8,
    "start_time": "2024-09-21T18:33:16.350Z"
   },
   {
    "duration": 10,
    "start_time": "2024-09-21T18:33:16.359Z"
   },
   {
    "duration": 10,
    "start_time": "2024-09-21T18:33:16.371Z"
   },
   {
    "duration": 7,
    "start_time": "2024-09-21T18:33:16.384Z"
   },
   {
    "duration": 20,
    "start_time": "2024-09-21T18:33:16.392Z"
   },
   {
    "duration": 9,
    "start_time": "2024-09-21T18:33:16.414Z"
   },
   {
    "duration": 18,
    "start_time": "2024-09-21T18:33:16.425Z"
   },
   {
    "duration": 31,
    "start_time": "2024-09-21T18:33:16.444Z"
   },
   {
    "duration": 7,
    "start_time": "2024-09-21T18:33:16.477Z"
   },
   {
    "duration": 6,
    "start_time": "2024-09-21T18:33:16.486Z"
   },
   {
    "duration": 6,
    "start_time": "2024-09-21T18:33:16.495Z"
   },
   {
    "duration": 5,
    "start_time": "2024-09-21T18:33:16.503Z"
   },
   {
    "duration": 11,
    "start_time": "2024-09-21T18:33:16.510Z"
   },
   {
    "duration": 6,
    "start_time": "2024-09-21T18:33:16.523Z"
   },
   {
    "duration": 592,
    "start_time": "2024-09-21T18:33:16.531Z"
   },
   {
    "duration": 209,
    "start_time": "2024-09-21T18:33:17.125Z"
   },
   {
    "duration": 324,
    "start_time": "2024-09-21T18:33:17.336Z"
   },
   {
    "duration": 236,
    "start_time": "2024-09-21T18:33:17.661Z"
   },
   {
    "duration": 297,
    "start_time": "2024-09-21T18:33:17.899Z"
   },
   {
    "duration": 197,
    "start_time": "2024-09-21T18:33:18.198Z"
   },
   {
    "duration": 4,
    "start_time": "2024-09-21T18:33:18.397Z"
   },
   {
    "duration": 189,
    "start_time": "2024-09-21T18:33:18.405Z"
   },
   {
    "duration": 5,
    "start_time": "2024-09-21T18:33:18.595Z"
   },
   {
    "duration": 493,
    "start_time": "2024-09-21T18:33:18.601Z"
   },
   {
    "duration": 10,
    "start_time": "2024-09-21T18:33:19.095Z"
   },
   {
    "duration": 8,
    "start_time": "2024-09-21T18:33:19.107Z"
   },
   {
    "duration": 52,
    "start_time": "2024-09-21T18:33:19.116Z"
   },
   {
    "duration": 14,
    "start_time": "2024-09-21T18:33:19.169Z"
   },
   {
    "duration": 9,
    "start_time": "2024-09-21T18:39:44.678Z"
   },
   {
    "duration": 1099,
    "start_time": "2024-09-21T18:41:02.998Z"
   },
   {
    "duration": 82,
    "start_time": "2024-09-21T18:41:04.099Z"
   },
   {
    "duration": 4,
    "start_time": "2024-09-21T18:41:04.183Z"
   },
   {
    "duration": 11,
    "start_time": "2024-09-21T18:41:04.189Z"
   },
   {
    "duration": 16,
    "start_time": "2024-09-21T18:41:04.201Z"
   },
   {
    "duration": 16,
    "start_time": "2024-09-21T18:41:04.218Z"
   },
   {
    "duration": 34,
    "start_time": "2024-09-21T18:41:04.235Z"
   },
   {
    "duration": 6,
    "start_time": "2024-09-21T18:41:04.271Z"
   },
   {
    "duration": 20,
    "start_time": "2024-09-21T18:41:04.279Z"
   },
   {
    "duration": 8,
    "start_time": "2024-09-21T18:41:04.300Z"
   },
   {
    "duration": 30,
    "start_time": "2024-09-21T18:41:04.310Z"
   },
   {
    "duration": 18,
    "start_time": "2024-09-21T18:41:04.341Z"
   },
   {
    "duration": 30,
    "start_time": "2024-09-21T18:41:04.360Z"
   },
   {
    "duration": 17,
    "start_time": "2024-09-21T18:41:04.392Z"
   },
   {
    "duration": 12,
    "start_time": "2024-09-21T18:41:04.411Z"
   },
   {
    "duration": 9,
    "start_time": "2024-09-21T18:41:04.425Z"
   },
   {
    "duration": 20,
    "start_time": "2024-09-21T18:41:04.436Z"
   },
   {
    "duration": 5,
    "start_time": "2024-09-21T18:41:04.457Z"
   },
   {
    "duration": 10,
    "start_time": "2024-09-21T18:41:04.464Z"
   },
   {
    "duration": 21,
    "start_time": "2024-09-21T18:41:04.476Z"
   },
   {
    "duration": 548,
    "start_time": "2024-09-21T18:41:04.498Z"
   },
   {
    "duration": 234,
    "start_time": "2024-09-21T18:41:05.048Z"
   },
   {
    "duration": 294,
    "start_time": "2024-09-21T18:41:05.284Z"
   },
   {
    "duration": 235,
    "start_time": "2024-09-21T18:41:05.580Z"
   },
   {
    "duration": 284,
    "start_time": "2024-09-21T18:41:05.817Z"
   },
   {
    "duration": 176,
    "start_time": "2024-09-21T18:41:06.103Z"
   },
   {
    "duration": 5,
    "start_time": "2024-09-21T18:41:06.281Z"
   },
   {
    "duration": 202,
    "start_time": "2024-09-21T18:41:06.288Z"
   },
   {
    "duration": 4,
    "start_time": "2024-09-21T18:41:06.492Z"
   },
   {
    "duration": 484,
    "start_time": "2024-09-21T18:41:06.498Z"
   },
   {
    "duration": 11,
    "start_time": "2024-09-21T18:41:06.984Z"
   },
   {
    "duration": 25,
    "start_time": "2024-09-21T18:41:06.996Z"
   },
   {
    "duration": 31,
    "start_time": "2024-09-21T18:41:07.022Z"
   },
   {
    "duration": 14,
    "start_time": "2024-09-21T18:41:07.064Z"
   },
   {
    "duration": 1055,
    "start_time": "2024-09-21T18:43:02.513Z"
   },
   {
    "duration": 82,
    "start_time": "2024-09-21T18:43:03.570Z"
   },
   {
    "duration": 4,
    "start_time": "2024-09-21T18:43:03.653Z"
   },
   {
    "duration": 12,
    "start_time": "2024-09-21T18:43:03.659Z"
   },
   {
    "duration": 10,
    "start_time": "2024-09-21T18:43:03.673Z"
   },
   {
    "duration": 8,
    "start_time": "2024-09-21T18:43:03.685Z"
   },
   {
    "duration": 6,
    "start_time": "2024-09-21T18:43:03.695Z"
   },
   {
    "duration": 5,
    "start_time": "2024-09-21T18:43:03.703Z"
   },
   {
    "duration": 17,
    "start_time": "2024-09-21T18:43:03.709Z"
   },
   {
    "duration": 8,
    "start_time": "2024-09-21T18:43:03.727Z"
   },
   {
    "duration": 37,
    "start_time": "2024-09-21T18:43:03.736Z"
   },
   {
    "duration": 10,
    "start_time": "2024-09-21T18:43:03.774Z"
   },
   {
    "duration": 10,
    "start_time": "2024-09-21T18:43:03.786Z"
   },
   {
    "duration": 11,
    "start_time": "2024-09-21T18:43:03.799Z"
   },
   {
    "duration": 9,
    "start_time": "2024-09-21T18:43:03.812Z"
   },
   {
    "duration": 4,
    "start_time": "2024-09-21T18:43:03.823Z"
   },
   {
    "duration": 39,
    "start_time": "2024-09-21T18:43:03.828Z"
   },
   {
    "duration": 6,
    "start_time": "2024-09-21T18:43:03.869Z"
   },
   {
    "duration": 4,
    "start_time": "2024-09-21T18:43:03.876Z"
   },
   {
    "duration": 11,
    "start_time": "2024-09-21T18:43:03.882Z"
   },
   {
    "duration": 562,
    "start_time": "2024-09-21T18:43:03.894Z"
   },
   {
    "duration": 234,
    "start_time": "2024-09-21T18:43:04.457Z"
   },
   {
    "duration": 292,
    "start_time": "2024-09-21T18:43:04.693Z"
   },
   {
    "duration": 205,
    "start_time": "2024-09-21T18:43:04.987Z"
   },
   {
    "duration": 311,
    "start_time": "2024-09-21T18:43:05.193Z"
   },
   {
    "duration": 175,
    "start_time": "2024-09-21T18:43:05.506Z"
   },
   {
    "duration": 4,
    "start_time": "2024-09-21T18:43:05.683Z"
   },
   {
    "duration": 195,
    "start_time": "2024-09-21T18:43:05.689Z"
   },
   {
    "duration": 4,
    "start_time": "2024-09-21T18:43:05.886Z"
   },
   {
    "duration": 556,
    "start_time": "2024-09-21T18:43:05.892Z"
   },
   {
    "duration": 22,
    "start_time": "2024-09-21T18:43:06.450Z"
   },
   {
    "duration": 18,
    "start_time": "2024-09-21T18:43:06.473Z"
   },
   {
    "duration": 39,
    "start_time": "2024-09-21T18:43:06.492Z"
   },
   {
    "duration": 14,
    "start_time": "2024-09-21T18:43:06.533Z"
   },
   {
    "duration": 1259,
    "start_time": "2024-09-22T06:10:50.049Z"
   },
   {
    "duration": 86,
    "start_time": "2024-09-22T06:10:51.310Z"
   },
   {
    "duration": 6,
    "start_time": "2024-09-22T06:10:51.398Z"
   },
   {
    "duration": 43,
    "start_time": "2024-09-22T06:10:51.406Z"
   },
   {
    "duration": 24,
    "start_time": "2024-09-22T06:10:51.451Z"
   },
   {
    "duration": 36,
    "start_time": "2024-09-22T06:10:51.477Z"
   },
   {
    "duration": 12,
    "start_time": "2024-09-22T06:10:51.515Z"
   },
   {
    "duration": 30,
    "start_time": "2024-09-22T06:10:51.528Z"
   },
   {
    "duration": 68,
    "start_time": "2024-09-22T06:10:51.560Z"
   },
   {
    "duration": 11,
    "start_time": "2024-09-22T06:10:51.632Z"
   },
   {
    "duration": 24,
    "start_time": "2024-09-22T06:10:51.645Z"
   },
   {
    "duration": 17,
    "start_time": "2024-09-22T06:10:51.671Z"
   },
   {
    "duration": 34,
    "start_time": "2024-09-22T06:10:51.690Z"
   },
   {
    "duration": 15,
    "start_time": "2024-09-22T06:10:51.726Z"
   },
   {
    "duration": 14,
    "start_time": "2024-09-22T06:10:51.743Z"
   },
   {
    "duration": 5,
    "start_time": "2024-09-22T06:10:51.759Z"
   },
   {
    "duration": 35,
    "start_time": "2024-09-22T06:10:51.766Z"
   },
   {
    "duration": 7,
    "start_time": "2024-09-22T06:10:51.803Z"
   },
   {
    "duration": 11,
    "start_time": "2024-09-22T06:10:51.812Z"
   },
   {
    "duration": 17,
    "start_time": "2024-09-22T06:10:51.825Z"
   },
   {
    "duration": 637,
    "start_time": "2024-09-22T06:10:51.844Z"
   },
   {
    "duration": 272,
    "start_time": "2024-09-22T06:10:52.483Z"
   },
   {
    "duration": 337,
    "start_time": "2024-09-22T06:10:52.757Z"
   },
   {
    "duration": 270,
    "start_time": "2024-09-22T06:10:53.096Z"
   },
   {
    "duration": 384,
    "start_time": "2024-09-22T06:10:53.368Z"
   },
   {
    "duration": 195,
    "start_time": "2024-09-22T06:10:53.754Z"
   },
   {
    "duration": 5,
    "start_time": "2024-09-22T06:10:53.951Z"
   },
   {
    "duration": 219,
    "start_time": "2024-09-22T06:10:53.960Z"
   },
   {
    "duration": 5,
    "start_time": "2024-09-22T06:10:54.181Z"
   },
   {
    "duration": 557,
    "start_time": "2024-09-22T06:10:54.187Z"
   },
   {
    "duration": 12,
    "start_time": "2024-09-22T06:10:54.746Z"
   },
   {
    "duration": 11,
    "start_time": "2024-09-22T06:10:54.761Z"
   },
   {
    "duration": 64,
    "start_time": "2024-09-22T06:10:54.774Z"
   },
   {
    "duration": 19,
    "start_time": "2024-09-22T06:10:54.840Z"
   }
  ],
  "kernelspec": {
   "display_name": "Python 3 (ipykernel)",
   "language": "python",
   "name": "python3"
  },
  "language_info": {
   "codemirror_mode": {
    "name": "ipython",
    "version": 3
   },
   "file_extension": ".py",
   "mimetype": "text/x-python",
   "name": "python",
   "nbconvert_exporter": "python",
   "pygments_lexer": "ipython3",
   "version": "3.9.5"
  },
  "toc": {
   "base_numbering": 1,
   "nav_menu": {},
   "number_sections": false,
   "sideBar": true,
   "skip_h1_title": false,
   "title_cell": "Содержание",
   "title_sidebar": "Contents",
   "toc_cell": true,
   "toc_position": {
    "height": "calc(100% - 180px)",
    "left": "10px",
    "top": "150px",
    "width": "314.600006px"
   },
   "toc_section_display": true,
   "toc_window_display": true
  }
 },
 "nbformat": 4,
 "nbformat_minor": 2
}
